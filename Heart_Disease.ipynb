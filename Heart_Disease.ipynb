{
 "cells": [
  {
   "cell_type": "markdown",
   "id": "67cd7c0d",
   "metadata": {},
   "source": [
    "<div style=\"color:white;background-color:yellow;padding:3%;border-radius:150px 150px;font-size:2em;text-align:center\"> <font color=\"black\" size=+5 face=\"Lucida Calligraphy\"><div style=\"align:center: justify\">Heart Disease Prediction </font></div>"
   ]
  },
  {
   "cell_type": "markdown",
   "id": "5e04584a",
   "metadata": {},
   "source": [
    " <center>\n",
    "    <img src=\"https://bestanimations.com/media/organs/1320327612heart-organ-animated-gif-1.gif\" alt=\"Outliers Removal\" width=\"50%\">\n",
    "</center"
   ]
  },
  {
   "cell_type": "markdown",
   "id": "969e276d",
   "metadata": {},
   "source": [
    "<div style=\"color:white;background-color:red;padding:2%;border-radius:70px 70px;font-size:2em;text-align:center\"> <font color=\"black\" size=+3 face=\"Lucida Calligraphy\"><div style=\"align:center: justify\">DOMAIN ANALYSIS\n",
    "  </font></div>"
   ]
  },
  {
   "cell_type": "markdown",
   "id": "163322f1",
   "metadata": {},
   "source": [
    "Cardiovascular disease or heart disease is the leading cause of death amongst women\n",
    "and men and amongst most racial/ethnic groups in the United States. Heart disease\n",
    "describes a range of conditions that affect your heart. Diseases under the heart disease\n",
    "umbrella include blood vessel diseases, such as coronary artery disease. From the CDC,\n",
    "roughly every 1 in 4 deaths each year are due to heart disease. The WHO states that\n",
    "human life style is the main reason behind this heart problem. Apart from this there are\n",
    "many key factors which warns that the person may/may not getting chance of heart disease.\n",
    "\n",
    "The term heart disease is often used interchangeably with the term cardiovascular\n",
    "disease. Cardiovascular disease generally refers to conditions that involve narrowed or\n",
    "blocked blood vessels that can lead to a heart attack, chest pain (angina) or stroke."
   ]
  },
  {
   "cell_type": "markdown",
   "id": "fee3accb",
   "metadata": {},
   "source": [
    "TARGET COLUMN == HEART DISEASE PRESENT\n",
    "* In this project we are going to analyze that how other feature of dataset affecting heart disease\n",
    "\n",
    "### 1.PATIENT ID: \n",
    "Id of particular patient, Id is used to identify a patient,this is a unique column so that its not affect to heart disease\n",
    "### 2.SLOPE OF PEAK EXERCISE ST SEGMENT: \n",
    "While a high ST depression is considered normal & healthy. The “ slope ” hue, refers to the peak exercise ST segment, with values: 1: upsloping, 2: flat, 3: downsloping). Both positive & negative heart disease patients exhibit equal distributions of the 3 slope categories.\n",
    "### 3.THAL:\n",
    "A blood disorder called thalassemia,[normal, reversible defect, fixed defect]\n",
    "### 4.RESTING BLOOD PRESSURE: \n",
    "blood pressure tells a lot about your general health. High blood pressure or hypertension can lead to several heart related issues and other medical conditions.Uncontrolled high blood pressure can lead to stroke.\n",
    "### 5.CHEST PAIN TYPE:\n",
    "Most of the chest pain causes are not dangerous to health, but some are serious, while the least cases are life-threatening.[TA: typical angina(1), ATA: Atypical angina(2), NAP: non-anginal pain(3), ASY: asymtomatic(4) ]\n",
    "### 6.NUM OF MAJOR VESSELS: \n",
    "Major Blood Vessels of the Heart: Blood exits the right ventricle through the pulmonary trunk artery. Approximately two inches superior to the base of the heart, this vessel branches into the left and right pulmonary arteries, which transport blood into the lungs.[number of major vessels: 0 to 3]\n",
    "### 7.FASTING BLOOD SUGAR: \n",
    "Your Fasting blood sugar level of 120 is a High Fasting blood sugar level. If your Fasting blood sugar is in between 74 mg/dL and 99 mg/dL, then you need not worry as 74-99 mg/dL is the normal range for Fasting blood sugar. But if your Fasting blood sugar is lesser or greater than the above values, then there may be some problem in your body.\n",
    "(fasting blood sugar > 120 mg/dl) (1 = true; 0 = false)\n",
    "### 8.RESTING EKG RESULT: \n",
    "The electrocardiogram (ECG or EKG) is a test that measures the heart’s electrical activity, and a resting ECG is administered when the patient is at rest. It involves noninvasive recording with adhesive skin electrodes placed on specially prepared spots on the skin, and it plots out the heart's activity on a graph. It is used to determine the health of the heart and circulatory system and to help diagnose issues with associated body systems.[0: normal, 1:having ST-T wave abnormality (T wave inversions and/or ST elevation or depression of > 0.05 mV), 2:showing probable or definite left ventricular hypertrophy by Estes’ criteria]\n",
    "### 9.SERUM CHOLESTEROL:  \n",
    "A person’s serum cholesterol level represents the amount of total cholesterol in their blood. A person’s serum cholesterol level comprises the amount of high-density lipoprotein (HDL), low-density lipoprotein (LDL), and triglycerides in the blood. Triglycerides are a type of fat bundled with cholesterol.\n",
    "### 10. oldpeak_eq_st_depression: \n",
    "oldpeak = ST depression induced by exercise relative to rest, a measure of abnormality in electrocardiograms\n",
    "### 11.SEX:\n",
    "sex (1 = male; 0 = female)\n",
    "### 12.AGE: \n",
    "age in years\n",
    "### 13.MAX HEART RATE: \n",
    "It has been shown that an increase in heart rate by 10 beats per minute was associated with an increase in the risk of cardiac death by at least 20%, and this increase in the risk is similar to the one observed with an increase in systolic blood pressure by 10 mm Hg.[Average heart rate: 60 to 100 bpm]\n",
    "### 14.EXERCISE INDUCED ANGINA:\n",
    "Angina is chest pain or discomfort caused when your heart muscle doesn't get enough oxygen-rich blood.[0: no, 1: yes]\n",
    "### 15.HEART DISEASE PRESENT:\n",
    "[0: no heart disease present, 1: heart disease present]"
   ]
  },
  {
   "cell_type": "markdown",
   "id": "bf2f9c51",
   "metadata": {},
   "source": [
    " <font color=\"black\"><h1 style=\"text-align: justify; font-family: 'Lucida Calligraphy'; font-size:40px; color:Blue\"> Library Importing  </h1>"
   ]
  },
  {
   "cell_type": "code",
   "execution_count": 1,
   "id": "e8f43d48",
   "metadata": {},
   "outputs": [],
   "source": [
    "import numpy as np \n",
    "import pandas as pd\n",
    "import matplotlib.pyplot as plt\n",
    "import seaborn as sns\n",
    "import csv\n",
    "from sklearn.model_selection import train_test_split\n",
    "import warnings\n",
    "warnings.filterwarnings('ignore')\n",
    "import statsmodels.api as sm\n",
    "from scipy.stats import shapiro\n",
    "from sklearn.preprocessing import StandardScaler\n",
    "from scipy import stats\n"
   ]
  },
  {
   "cell_type": "markdown",
   "id": "d7d8bceb",
   "metadata": {},
   "source": [
    "<div style=\"color:white;background-color:red;padding:2%;border-radius:70px 70px;font-size:2em;text-align:center\"> <font color=\"black\" size=+3 face=\"Lucida Calligraphy\"><div style=\"align:center: justify\">Import the dataset </font></div>"
   ]
  },
  {
   "cell_type": "code",
   "execution_count": 2,
   "id": "f25cfc7e",
   "metadata": {},
   "outputs": [],
   "source": [
    "df1 = pd.read_csv(\"labels.csv\")"
   ]
  },
  {
   "cell_type": "code",
   "execution_count": 3,
   "id": "19ff2c2f",
   "metadata": {},
   "outputs": [
    {
     "data": {
      "text/html": [
       "<div>\n",
       "<style scoped>\n",
       "    .dataframe tbody tr th:only-of-type {\n",
       "        vertical-align: middle;\n",
       "    }\n",
       "\n",
       "    .dataframe tbody tr th {\n",
       "        vertical-align: top;\n",
       "    }\n",
       "\n",
       "    .dataframe thead th {\n",
       "        text-align: right;\n",
       "    }\n",
       "</style>\n",
       "<table border=\"1\" class=\"dataframe\">\n",
       "  <thead>\n",
       "    <tr style=\"text-align: right;\">\n",
       "      <th></th>\n",
       "      <th>patient_id</th>\n",
       "      <th>heart_disease_present</th>\n",
       "    </tr>\n",
       "  </thead>\n",
       "  <tbody>\n",
       "    <tr>\n",
       "      <th>0</th>\n",
       "      <td>0z64un</td>\n",
       "      <td>0</td>\n",
       "    </tr>\n",
       "    <tr>\n",
       "      <th>1</th>\n",
       "      <td>ryoo3j</td>\n",
       "      <td>0</td>\n",
       "    </tr>\n",
       "    <tr>\n",
       "      <th>2</th>\n",
       "      <td>yt1s1x</td>\n",
       "      <td>1</td>\n",
       "    </tr>\n",
       "    <tr>\n",
       "      <th>3</th>\n",
       "      <td>l2xjde</td>\n",
       "      <td>1</td>\n",
       "    </tr>\n",
       "    <tr>\n",
       "      <th>4</th>\n",
       "      <td>oyt4ek</td>\n",
       "      <td>0</td>\n",
       "    </tr>\n",
       "  </tbody>\n",
       "</table>\n",
       "</div>"
      ],
      "text/plain": [
       "  patient_id  heart_disease_present\n",
       "0     0z64un                      0\n",
       "1     ryoo3j                      0\n",
       "2     yt1s1x                      1\n",
       "3     l2xjde                      1\n",
       "4     oyt4ek                      0"
      ]
     },
     "execution_count": 3,
     "metadata": {},
     "output_type": "execute_result"
    }
   ],
   "source": [
    "df1.head()"
   ]
  },
  {
   "cell_type": "code",
   "execution_count": 4,
   "id": "85c70117",
   "metadata": {},
   "outputs": [],
   "source": [
    "df2 = pd.read_csv(\"values.csv\")"
   ]
  },
  {
   "cell_type": "code",
   "execution_count": 5,
   "id": "91fe3d2a",
   "metadata": {},
   "outputs": [
    {
     "data": {
      "text/html": [
       "<div>\n",
       "<style scoped>\n",
       "    .dataframe tbody tr th:only-of-type {\n",
       "        vertical-align: middle;\n",
       "    }\n",
       "\n",
       "    .dataframe tbody tr th {\n",
       "        vertical-align: top;\n",
       "    }\n",
       "\n",
       "    .dataframe thead th {\n",
       "        text-align: right;\n",
       "    }\n",
       "</style>\n",
       "<table border=\"1\" class=\"dataframe\">\n",
       "  <thead>\n",
       "    <tr style=\"text-align: right;\">\n",
       "      <th></th>\n",
       "      <th>patient_id</th>\n",
       "      <th>slope_of_peak_exercise_st_segment</th>\n",
       "      <th>thal</th>\n",
       "      <th>resting_blood_pressure</th>\n",
       "      <th>chest_pain_type</th>\n",
       "      <th>num_major_vessels</th>\n",
       "      <th>fasting_blood_sugar_gt_120_mg_per_dl</th>\n",
       "      <th>resting_ekg_results</th>\n",
       "      <th>serum_cholesterol_mg_per_dl</th>\n",
       "      <th>oldpeak_eq_st_depression</th>\n",
       "      <th>sex</th>\n",
       "      <th>age</th>\n",
       "      <th>max_heart_rate_achieved</th>\n",
       "      <th>exercise_induced_angina</th>\n",
       "    </tr>\n",
       "  </thead>\n",
       "  <tbody>\n",
       "    <tr>\n",
       "      <th>0</th>\n",
       "      <td>0z64un</td>\n",
       "      <td>1</td>\n",
       "      <td>normal</td>\n",
       "      <td>128</td>\n",
       "      <td>2</td>\n",
       "      <td>0</td>\n",
       "      <td>0</td>\n",
       "      <td>2</td>\n",
       "      <td>308</td>\n",
       "      <td>0.0</td>\n",
       "      <td>1</td>\n",
       "      <td>45</td>\n",
       "      <td>170</td>\n",
       "      <td>0</td>\n",
       "    </tr>\n",
       "    <tr>\n",
       "      <th>1</th>\n",
       "      <td>ryoo3j</td>\n",
       "      <td>2</td>\n",
       "      <td>normal</td>\n",
       "      <td>110</td>\n",
       "      <td>3</td>\n",
       "      <td>0</td>\n",
       "      <td>0</td>\n",
       "      <td>0</td>\n",
       "      <td>214</td>\n",
       "      <td>1.6</td>\n",
       "      <td>0</td>\n",
       "      <td>54</td>\n",
       "      <td>158</td>\n",
       "      <td>0</td>\n",
       "    </tr>\n",
       "    <tr>\n",
       "      <th>2</th>\n",
       "      <td>yt1s1x</td>\n",
       "      <td>1</td>\n",
       "      <td>normal</td>\n",
       "      <td>125</td>\n",
       "      <td>4</td>\n",
       "      <td>3</td>\n",
       "      <td>0</td>\n",
       "      <td>2</td>\n",
       "      <td>304</td>\n",
       "      <td>0.0</td>\n",
       "      <td>1</td>\n",
       "      <td>77</td>\n",
       "      <td>162</td>\n",
       "      <td>1</td>\n",
       "    </tr>\n",
       "    <tr>\n",
       "      <th>3</th>\n",
       "      <td>l2xjde</td>\n",
       "      <td>1</td>\n",
       "      <td>reversible_defect</td>\n",
       "      <td>152</td>\n",
       "      <td>4</td>\n",
       "      <td>0</td>\n",
       "      <td>0</td>\n",
       "      <td>0</td>\n",
       "      <td>223</td>\n",
       "      <td>0.0</td>\n",
       "      <td>1</td>\n",
       "      <td>40</td>\n",
       "      <td>181</td>\n",
       "      <td>0</td>\n",
       "    </tr>\n",
       "    <tr>\n",
       "      <th>4</th>\n",
       "      <td>oyt4ek</td>\n",
       "      <td>3</td>\n",
       "      <td>reversible_defect</td>\n",
       "      <td>178</td>\n",
       "      <td>1</td>\n",
       "      <td>0</td>\n",
       "      <td>0</td>\n",
       "      <td>2</td>\n",
       "      <td>270</td>\n",
       "      <td>4.2</td>\n",
       "      <td>1</td>\n",
       "      <td>59</td>\n",
       "      <td>145</td>\n",
       "      <td>0</td>\n",
       "    </tr>\n",
       "  </tbody>\n",
       "</table>\n",
       "</div>"
      ],
      "text/plain": [
       "  patient_id  slope_of_peak_exercise_st_segment               thal  \\\n",
       "0     0z64un                                  1             normal   \n",
       "1     ryoo3j                                  2             normal   \n",
       "2     yt1s1x                                  1             normal   \n",
       "3     l2xjde                                  1  reversible_defect   \n",
       "4     oyt4ek                                  3  reversible_defect   \n",
       "\n",
       "   resting_blood_pressure  chest_pain_type  num_major_vessels  \\\n",
       "0                     128                2                  0   \n",
       "1                     110                3                  0   \n",
       "2                     125                4                  3   \n",
       "3                     152                4                  0   \n",
       "4                     178                1                  0   \n",
       "\n",
       "   fasting_blood_sugar_gt_120_mg_per_dl  resting_ekg_results  \\\n",
       "0                                     0                    2   \n",
       "1                                     0                    0   \n",
       "2                                     0                    2   \n",
       "3                                     0                    0   \n",
       "4                                     0                    2   \n",
       "\n",
       "   serum_cholesterol_mg_per_dl  oldpeak_eq_st_depression  sex  age  \\\n",
       "0                          308                       0.0    1   45   \n",
       "1                          214                       1.6    0   54   \n",
       "2                          304                       0.0    1   77   \n",
       "3                          223                       0.0    1   40   \n",
       "4                          270                       4.2    1   59   \n",
       "\n",
       "   max_heart_rate_achieved  exercise_induced_angina  \n",
       "0                      170                        0  \n",
       "1                      158                        0  \n",
       "2                      162                        1  \n",
       "3                      181                        0  \n",
       "4                      145                        0  "
      ]
     },
     "execution_count": 5,
     "metadata": {},
     "output_type": "execute_result"
    }
   ],
   "source": [
    "df2.head()"
   ]
  },
  {
   "cell_type": "code",
   "execution_count": 6,
   "id": "9e8a6a37",
   "metadata": {},
   "outputs": [],
   "source": [
    "# Read the first CSV file\n",
    "with open(\"values.csv\",\"r\") as values : \n",
    "    reader1 = csv.reader(values)\n",
    "    data1 = list(reader1)\n",
    "    \n",
    "# Read the second CSV file\n",
    "with open(\"labels.csv\",\"r\") as labels : \n",
    "    reader2 = csv.reader(labels)\n",
    "    data2 = list(reader2)\n",
    "    \n",
    "# Combine the data from both CSV files into a new list\n",
    "combined_data = []\n",
    "for i in range(len(data1)):\n",
    "    combined_data.append(data1[i] + data2[i])\n",
    "    \n",
    "# Write the combined data to a new CSV file\n",
    "with open('combined_file.csv', 'w', newline='') as combined_file:\n",
    "    writer = csv.writer(combined_file)\n",
    "    writer.writerows(combined_data)\n"
   ]
  },
  {
   "cell_type": "code",
   "execution_count": 7,
   "id": "8480f924",
   "metadata": {},
   "outputs": [],
   "source": [
    "data=pd.read_csv(\"combined_file.csv\")"
   ]
  },
  {
   "cell_type": "code",
   "execution_count": 8,
   "id": "3dcd6952",
   "metadata": {
    "scrolled": true
   },
   "outputs": [
    {
     "data": {
      "text/html": [
       "<div>\n",
       "<style scoped>\n",
       "    .dataframe tbody tr th:only-of-type {\n",
       "        vertical-align: middle;\n",
       "    }\n",
       "\n",
       "    .dataframe tbody tr th {\n",
       "        vertical-align: top;\n",
       "    }\n",
       "\n",
       "    .dataframe thead th {\n",
       "        text-align: right;\n",
       "    }\n",
       "</style>\n",
       "<table border=\"1\" class=\"dataframe\">\n",
       "  <thead>\n",
       "    <tr style=\"text-align: right;\">\n",
       "      <th></th>\n",
       "      <th>patient_id</th>\n",
       "      <th>slope_of_peak_exercise_st_segment</th>\n",
       "      <th>thal</th>\n",
       "      <th>resting_blood_pressure</th>\n",
       "      <th>chest_pain_type</th>\n",
       "      <th>num_major_vessels</th>\n",
       "      <th>fasting_blood_sugar_gt_120_mg_per_dl</th>\n",
       "      <th>resting_ekg_results</th>\n",
       "      <th>serum_cholesterol_mg_per_dl</th>\n",
       "      <th>oldpeak_eq_st_depression</th>\n",
       "      <th>sex</th>\n",
       "      <th>age</th>\n",
       "      <th>max_heart_rate_achieved</th>\n",
       "      <th>exercise_induced_angina</th>\n",
       "      <th>patient_id.1</th>\n",
       "      <th>heart_disease_present</th>\n",
       "    </tr>\n",
       "  </thead>\n",
       "  <tbody>\n",
       "    <tr>\n",
       "      <th>0</th>\n",
       "      <td>0z64un</td>\n",
       "      <td>1</td>\n",
       "      <td>normal</td>\n",
       "      <td>128</td>\n",
       "      <td>2</td>\n",
       "      <td>0</td>\n",
       "      <td>0</td>\n",
       "      <td>2</td>\n",
       "      <td>308</td>\n",
       "      <td>0.0</td>\n",
       "      <td>1</td>\n",
       "      <td>45</td>\n",
       "      <td>170</td>\n",
       "      <td>0</td>\n",
       "      <td>0z64un</td>\n",
       "      <td>0</td>\n",
       "    </tr>\n",
       "    <tr>\n",
       "      <th>1</th>\n",
       "      <td>ryoo3j</td>\n",
       "      <td>2</td>\n",
       "      <td>normal</td>\n",
       "      <td>110</td>\n",
       "      <td>3</td>\n",
       "      <td>0</td>\n",
       "      <td>0</td>\n",
       "      <td>0</td>\n",
       "      <td>214</td>\n",
       "      <td>1.6</td>\n",
       "      <td>0</td>\n",
       "      <td>54</td>\n",
       "      <td>158</td>\n",
       "      <td>0</td>\n",
       "      <td>ryoo3j</td>\n",
       "      <td>0</td>\n",
       "    </tr>\n",
       "    <tr>\n",
       "      <th>2</th>\n",
       "      <td>yt1s1x</td>\n",
       "      <td>1</td>\n",
       "      <td>normal</td>\n",
       "      <td>125</td>\n",
       "      <td>4</td>\n",
       "      <td>3</td>\n",
       "      <td>0</td>\n",
       "      <td>2</td>\n",
       "      <td>304</td>\n",
       "      <td>0.0</td>\n",
       "      <td>1</td>\n",
       "      <td>77</td>\n",
       "      <td>162</td>\n",
       "      <td>1</td>\n",
       "      <td>yt1s1x</td>\n",
       "      <td>1</td>\n",
       "    </tr>\n",
       "    <tr>\n",
       "      <th>3</th>\n",
       "      <td>l2xjde</td>\n",
       "      <td>1</td>\n",
       "      <td>reversible_defect</td>\n",
       "      <td>152</td>\n",
       "      <td>4</td>\n",
       "      <td>0</td>\n",
       "      <td>0</td>\n",
       "      <td>0</td>\n",
       "      <td>223</td>\n",
       "      <td>0.0</td>\n",
       "      <td>1</td>\n",
       "      <td>40</td>\n",
       "      <td>181</td>\n",
       "      <td>0</td>\n",
       "      <td>l2xjde</td>\n",
       "      <td>1</td>\n",
       "    </tr>\n",
       "    <tr>\n",
       "      <th>4</th>\n",
       "      <td>oyt4ek</td>\n",
       "      <td>3</td>\n",
       "      <td>reversible_defect</td>\n",
       "      <td>178</td>\n",
       "      <td>1</td>\n",
       "      <td>0</td>\n",
       "      <td>0</td>\n",
       "      <td>2</td>\n",
       "      <td>270</td>\n",
       "      <td>4.2</td>\n",
       "      <td>1</td>\n",
       "      <td>59</td>\n",
       "      <td>145</td>\n",
       "      <td>0</td>\n",
       "      <td>oyt4ek</td>\n",
       "      <td>0</td>\n",
       "    </tr>\n",
       "    <tr>\n",
       "      <th>5</th>\n",
       "      <td>ldukkw</td>\n",
       "      <td>1</td>\n",
       "      <td>normal</td>\n",
       "      <td>130</td>\n",
       "      <td>3</td>\n",
       "      <td>0</td>\n",
       "      <td>0</td>\n",
       "      <td>0</td>\n",
       "      <td>180</td>\n",
       "      <td>0.0</td>\n",
       "      <td>1</td>\n",
       "      <td>42</td>\n",
       "      <td>150</td>\n",
       "      <td>0</td>\n",
       "      <td>ldukkw</td>\n",
       "      <td>0</td>\n",
       "    </tr>\n",
       "    <tr>\n",
       "      <th>6</th>\n",
       "      <td>2gbyh9</td>\n",
       "      <td>2</td>\n",
       "      <td>reversible_defect</td>\n",
       "      <td>150</td>\n",
       "      <td>4</td>\n",
       "      <td>2</td>\n",
       "      <td>0</td>\n",
       "      <td>2</td>\n",
       "      <td>258</td>\n",
       "      <td>2.6</td>\n",
       "      <td>0</td>\n",
       "      <td>60</td>\n",
       "      <td>157</td>\n",
       "      <td>0</td>\n",
       "      <td>2gbyh9</td>\n",
       "      <td>1</td>\n",
       "    </tr>\n",
       "    <tr>\n",
       "      <th>7</th>\n",
       "      <td>daa9kp</td>\n",
       "      <td>2</td>\n",
       "      <td>fixed_defect</td>\n",
       "      <td>150</td>\n",
       "      <td>4</td>\n",
       "      <td>1</td>\n",
       "      <td>0</td>\n",
       "      <td>2</td>\n",
       "      <td>276</td>\n",
       "      <td>0.6</td>\n",
       "      <td>1</td>\n",
       "      <td>57</td>\n",
       "      <td>112</td>\n",
       "      <td>1</td>\n",
       "      <td>daa9kp</td>\n",
       "      <td>1</td>\n",
       "    </tr>\n",
       "    <tr>\n",
       "      <th>8</th>\n",
       "      <td>3nwy2n</td>\n",
       "      <td>3</td>\n",
       "      <td>reversible_defect</td>\n",
       "      <td>170</td>\n",
       "      <td>4</td>\n",
       "      <td>0</td>\n",
       "      <td>0</td>\n",
       "      <td>2</td>\n",
       "      <td>326</td>\n",
       "      <td>3.4</td>\n",
       "      <td>1</td>\n",
       "      <td>59</td>\n",
       "      <td>140</td>\n",
       "      <td>1</td>\n",
       "      <td>3nwy2n</td>\n",
       "      <td>1</td>\n",
       "    </tr>\n",
       "    <tr>\n",
       "      <th>9</th>\n",
       "      <td>1r508r</td>\n",
       "      <td>2</td>\n",
       "      <td>normal</td>\n",
       "      <td>120</td>\n",
       "      <td>3</td>\n",
       "      <td>0</td>\n",
       "      <td>0</td>\n",
       "      <td>0</td>\n",
       "      <td>219</td>\n",
       "      <td>1.6</td>\n",
       "      <td>0</td>\n",
       "      <td>50</td>\n",
       "      <td>158</td>\n",
       "      <td>0</td>\n",
       "      <td>1r508r</td>\n",
       "      <td>0</td>\n",
       "    </tr>\n",
       "  </tbody>\n",
       "</table>\n",
       "</div>"
      ],
      "text/plain": [
       "  patient_id  slope_of_peak_exercise_st_segment               thal  \\\n",
       "0     0z64un                                  1             normal   \n",
       "1     ryoo3j                                  2             normal   \n",
       "2     yt1s1x                                  1             normal   \n",
       "3     l2xjde                                  1  reversible_defect   \n",
       "4     oyt4ek                                  3  reversible_defect   \n",
       "5     ldukkw                                  1             normal   \n",
       "6     2gbyh9                                  2  reversible_defect   \n",
       "7     daa9kp                                  2       fixed_defect   \n",
       "8     3nwy2n                                  3  reversible_defect   \n",
       "9     1r508r                                  2             normal   \n",
       "\n",
       "   resting_blood_pressure  chest_pain_type  num_major_vessels  \\\n",
       "0                     128                2                  0   \n",
       "1                     110                3                  0   \n",
       "2                     125                4                  3   \n",
       "3                     152                4                  0   \n",
       "4                     178                1                  0   \n",
       "5                     130                3                  0   \n",
       "6                     150                4                  2   \n",
       "7                     150                4                  1   \n",
       "8                     170                4                  0   \n",
       "9                     120                3                  0   \n",
       "\n",
       "   fasting_blood_sugar_gt_120_mg_per_dl  resting_ekg_results  \\\n",
       "0                                     0                    2   \n",
       "1                                     0                    0   \n",
       "2                                     0                    2   \n",
       "3                                     0                    0   \n",
       "4                                     0                    2   \n",
       "5                                     0                    0   \n",
       "6                                     0                    2   \n",
       "7                                     0                    2   \n",
       "8                                     0                    2   \n",
       "9                                     0                    0   \n",
       "\n",
       "   serum_cholesterol_mg_per_dl  oldpeak_eq_st_depression  sex  age  \\\n",
       "0                          308                       0.0    1   45   \n",
       "1                          214                       1.6    0   54   \n",
       "2                          304                       0.0    1   77   \n",
       "3                          223                       0.0    1   40   \n",
       "4                          270                       4.2    1   59   \n",
       "5                          180                       0.0    1   42   \n",
       "6                          258                       2.6    0   60   \n",
       "7                          276                       0.6    1   57   \n",
       "8                          326                       3.4    1   59   \n",
       "9                          219                       1.6    0   50   \n",
       "\n",
       "   max_heart_rate_achieved  exercise_induced_angina patient_id.1  \\\n",
       "0                      170                        0       0z64un   \n",
       "1                      158                        0       ryoo3j   \n",
       "2                      162                        1       yt1s1x   \n",
       "3                      181                        0       l2xjde   \n",
       "4                      145                        0       oyt4ek   \n",
       "5                      150                        0       ldukkw   \n",
       "6                      157                        0       2gbyh9   \n",
       "7                      112                        1       daa9kp   \n",
       "8                      140                        1       3nwy2n   \n",
       "9                      158                        0       1r508r   \n",
       "\n",
       "   heart_disease_present  \n",
       "0                      0  \n",
       "1                      0  \n",
       "2                      1  \n",
       "3                      1  \n",
       "4                      0  \n",
       "5                      0  \n",
       "6                      1  \n",
       "7                      1  \n",
       "8                      1  \n",
       "9                      0  "
      ]
     },
     "execution_count": 8,
     "metadata": {},
     "output_type": "execute_result"
    }
   ],
   "source": [
    "data.head(10)"
   ]
  },
  {
   "cell_type": "code",
   "execution_count": 9,
   "id": "f17deb2c",
   "metadata": {},
   "outputs": [
    {
     "data": {
      "text/html": [
       "<div>\n",
       "<style scoped>\n",
       "    .dataframe tbody tr th:only-of-type {\n",
       "        vertical-align: middle;\n",
       "    }\n",
       "\n",
       "    .dataframe tbody tr th {\n",
       "        vertical-align: top;\n",
       "    }\n",
       "\n",
       "    .dataframe thead th {\n",
       "        text-align: right;\n",
       "    }\n",
       "</style>\n",
       "<table border=\"1\" class=\"dataframe\">\n",
       "  <thead>\n",
       "    <tr style=\"text-align: right;\">\n",
       "      <th></th>\n",
       "      <th>patient_id</th>\n",
       "      <th>slope_of_peak_exercise_st_segment</th>\n",
       "      <th>thal</th>\n",
       "      <th>resting_blood_pressure</th>\n",
       "      <th>chest_pain_type</th>\n",
       "      <th>num_major_vessels</th>\n",
       "      <th>fasting_blood_sugar_gt_120_mg_per_dl</th>\n",
       "      <th>resting_ekg_results</th>\n",
       "      <th>serum_cholesterol_mg_per_dl</th>\n",
       "      <th>oldpeak_eq_st_depression</th>\n",
       "      <th>sex</th>\n",
       "      <th>age</th>\n",
       "      <th>max_heart_rate_achieved</th>\n",
       "      <th>exercise_induced_angina</th>\n",
       "      <th>patient_id.1</th>\n",
       "      <th>heart_disease_present</th>\n",
       "    </tr>\n",
       "  </thead>\n",
       "  <tbody>\n",
       "    <tr>\n",
       "      <th>170</th>\n",
       "      <td>qhz9ye</td>\n",
       "      <td>1</td>\n",
       "      <td>reversible_defect</td>\n",
       "      <td>150</td>\n",
       "      <td>4</td>\n",
       "      <td>0</td>\n",
       "      <td>0</td>\n",
       "      <td>2</td>\n",
       "      <td>270</td>\n",
       "      <td>0.8</td>\n",
       "      <td>1</td>\n",
       "      <td>58</td>\n",
       "      <td>111</td>\n",
       "      <td>1</td>\n",
       "      <td>qhz9ye</td>\n",
       "      <td>1</td>\n",
       "    </tr>\n",
       "    <tr>\n",
       "      <th>171</th>\n",
       "      <td>u25507</td>\n",
       "      <td>1</td>\n",
       "      <td>normal</td>\n",
       "      <td>112</td>\n",
       "      <td>4</td>\n",
       "      <td>1</td>\n",
       "      <td>0</td>\n",
       "      <td>2</td>\n",
       "      <td>212</td>\n",
       "      <td>0.1</td>\n",
       "      <td>1</td>\n",
       "      <td>66</td>\n",
       "      <td>132</td>\n",
       "      <td>1</td>\n",
       "      <td>u25507</td>\n",
       "      <td>1</td>\n",
       "    </tr>\n",
       "    <tr>\n",
       "      <th>172</th>\n",
       "      <td>j9tw19</td>\n",
       "      <td>2</td>\n",
       "      <td>reversible_defect</td>\n",
       "      <td>118</td>\n",
       "      <td>4</td>\n",
       "      <td>0</td>\n",
       "      <td>0</td>\n",
       "      <td>0</td>\n",
       "      <td>219</td>\n",
       "      <td>1.2</td>\n",
       "      <td>1</td>\n",
       "      <td>39</td>\n",
       "      <td>140</td>\n",
       "      <td>0</td>\n",
       "      <td>j9tw19</td>\n",
       "      <td>1</td>\n",
       "    </tr>\n",
       "    <tr>\n",
       "      <th>173</th>\n",
       "      <td>5o32oi</td>\n",
       "      <td>1</td>\n",
       "      <td>reversible_defect</td>\n",
       "      <td>140</td>\n",
       "      <td>4</td>\n",
       "      <td>0</td>\n",
       "      <td>0</td>\n",
       "      <td>0</td>\n",
       "      <td>299</td>\n",
       "      <td>1.6</td>\n",
       "      <td>1</td>\n",
       "      <td>51</td>\n",
       "      <td>173</td>\n",
       "      <td>1</td>\n",
       "      <td>5o32oi</td>\n",
       "      <td>1</td>\n",
       "    </tr>\n",
       "    <tr>\n",
       "      <th>174</th>\n",
       "      <td>o63ri2</td>\n",
       "      <td>1</td>\n",
       "      <td>normal</td>\n",
       "      <td>140</td>\n",
       "      <td>4</td>\n",
       "      <td>0</td>\n",
       "      <td>0</td>\n",
       "      <td>0</td>\n",
       "      <td>239</td>\n",
       "      <td>1.2</td>\n",
       "      <td>1</td>\n",
       "      <td>54</td>\n",
       "      <td>160</td>\n",
       "      <td>0</td>\n",
       "      <td>o63ri2</td>\n",
       "      <td>0</td>\n",
       "    </tr>\n",
       "    <tr>\n",
       "      <th>175</th>\n",
       "      <td>5qfar3</td>\n",
       "      <td>2</td>\n",
       "      <td>reversible_defect</td>\n",
       "      <td>125</td>\n",
       "      <td>4</td>\n",
       "      <td>2</td>\n",
       "      <td>1</td>\n",
       "      <td>0</td>\n",
       "      <td>254</td>\n",
       "      <td>0.2</td>\n",
       "      <td>1</td>\n",
       "      <td>67</td>\n",
       "      <td>163</td>\n",
       "      <td>0</td>\n",
       "      <td>5qfar3</td>\n",
       "      <td>1</td>\n",
       "    </tr>\n",
       "    <tr>\n",
       "      <th>176</th>\n",
       "      <td>2s2b1f</td>\n",
       "      <td>2</td>\n",
       "      <td>normal</td>\n",
       "      <td>180</td>\n",
       "      <td>4</td>\n",
       "      <td>0</td>\n",
       "      <td>0</td>\n",
       "      <td>1</td>\n",
       "      <td>327</td>\n",
       "      <td>3.4</td>\n",
       "      <td>0</td>\n",
       "      <td>55</td>\n",
       "      <td>117</td>\n",
       "      <td>1</td>\n",
       "      <td>2s2b1f</td>\n",
       "      <td>1</td>\n",
       "    </tr>\n",
       "    <tr>\n",
       "      <th>177</th>\n",
       "      <td>nsd00i</td>\n",
       "      <td>2</td>\n",
       "      <td>reversible_defect</td>\n",
       "      <td>125</td>\n",
       "      <td>3</td>\n",
       "      <td>0</td>\n",
       "      <td>0</td>\n",
       "      <td>0</td>\n",
       "      <td>309</td>\n",
       "      <td>1.8</td>\n",
       "      <td>1</td>\n",
       "      <td>64</td>\n",
       "      <td>131</td>\n",
       "      <td>1</td>\n",
       "      <td>nsd00i</td>\n",
       "      <td>1</td>\n",
       "    </tr>\n",
       "    <tr>\n",
       "      <th>178</th>\n",
       "      <td>0xw93k</td>\n",
       "      <td>1</td>\n",
       "      <td>normal</td>\n",
       "      <td>124</td>\n",
       "      <td>3</td>\n",
       "      <td>2</td>\n",
       "      <td>1</td>\n",
       "      <td>0</td>\n",
       "      <td>255</td>\n",
       "      <td>0.0</td>\n",
       "      <td>1</td>\n",
       "      <td>48</td>\n",
       "      <td>175</td>\n",
       "      <td>0</td>\n",
       "      <td>0xw93k</td>\n",
       "      <td>0</td>\n",
       "    </tr>\n",
       "    <tr>\n",
       "      <th>179</th>\n",
       "      <td>2nx10r</td>\n",
       "      <td>1</td>\n",
       "      <td>normal</td>\n",
       "      <td>160</td>\n",
       "      <td>3</td>\n",
       "      <td>1</td>\n",
       "      <td>0</td>\n",
       "      <td>0</td>\n",
       "      <td>201</td>\n",
       "      <td>0.0</td>\n",
       "      <td>0</td>\n",
       "      <td>54</td>\n",
       "      <td>163</td>\n",
       "      <td>0</td>\n",
       "      <td>2nx10r</td>\n",
       "      <td>0</td>\n",
       "    </tr>\n",
       "  </tbody>\n",
       "</table>\n",
       "</div>"
      ],
      "text/plain": [
       "    patient_id  slope_of_peak_exercise_st_segment               thal  \\\n",
       "170     qhz9ye                                  1  reversible_defect   \n",
       "171     u25507                                  1             normal   \n",
       "172     j9tw19                                  2  reversible_defect   \n",
       "173     5o32oi                                  1  reversible_defect   \n",
       "174     o63ri2                                  1             normal   \n",
       "175     5qfar3                                  2  reversible_defect   \n",
       "176     2s2b1f                                  2             normal   \n",
       "177     nsd00i                                  2  reversible_defect   \n",
       "178     0xw93k                                  1             normal   \n",
       "179     2nx10r                                  1             normal   \n",
       "\n",
       "     resting_blood_pressure  chest_pain_type  num_major_vessels  \\\n",
       "170                     150                4                  0   \n",
       "171                     112                4                  1   \n",
       "172                     118                4                  0   \n",
       "173                     140                4                  0   \n",
       "174                     140                4                  0   \n",
       "175                     125                4                  2   \n",
       "176                     180                4                  0   \n",
       "177                     125                3                  0   \n",
       "178                     124                3                  2   \n",
       "179                     160                3                  1   \n",
       "\n",
       "     fasting_blood_sugar_gt_120_mg_per_dl  resting_ekg_results  \\\n",
       "170                                     0                    2   \n",
       "171                                     0                    2   \n",
       "172                                     0                    0   \n",
       "173                                     0                    0   \n",
       "174                                     0                    0   \n",
       "175                                     1                    0   \n",
       "176                                     0                    1   \n",
       "177                                     0                    0   \n",
       "178                                     1                    0   \n",
       "179                                     0                    0   \n",
       "\n",
       "     serum_cholesterol_mg_per_dl  oldpeak_eq_st_depression  sex  age  \\\n",
       "170                          270                       0.8    1   58   \n",
       "171                          212                       0.1    1   66   \n",
       "172                          219                       1.2    1   39   \n",
       "173                          299                       1.6    1   51   \n",
       "174                          239                       1.2    1   54   \n",
       "175                          254                       0.2    1   67   \n",
       "176                          327                       3.4    0   55   \n",
       "177                          309                       1.8    1   64   \n",
       "178                          255                       0.0    1   48   \n",
       "179                          201                       0.0    0   54   \n",
       "\n",
       "     max_heart_rate_achieved  exercise_induced_angina patient_id.1  \\\n",
       "170                      111                        1       qhz9ye   \n",
       "171                      132                        1       u25507   \n",
       "172                      140                        0       j9tw19   \n",
       "173                      173                        1       5o32oi   \n",
       "174                      160                        0       o63ri2   \n",
       "175                      163                        0       5qfar3   \n",
       "176                      117                        1       2s2b1f   \n",
       "177                      131                        1       nsd00i   \n",
       "178                      175                        0       0xw93k   \n",
       "179                      163                        0       2nx10r   \n",
       "\n",
       "     heart_disease_present  \n",
       "170                      1  \n",
       "171                      1  \n",
       "172                      1  \n",
       "173                      1  \n",
       "174                      0  \n",
       "175                      1  \n",
       "176                      1  \n",
       "177                      1  \n",
       "178                      0  \n",
       "179                      0  "
      ]
     },
     "execution_count": 9,
     "metadata": {},
     "output_type": "execute_result"
    }
   ],
   "source": [
    "data.tail(10)"
   ]
  },
  {
   "cell_type": "code",
   "execution_count": 10,
   "id": "8e5633f4",
   "metadata": {},
   "outputs": [],
   "source": [
    "#in predition no need of patient id so we will brop it \n",
    "\n",
    "data = data.drop(\"patient_id.1\",axis=1)\n",
    "data = data.drop(\"patient_id\" ,axis=1)"
   ]
  },
  {
   "cell_type": "code",
   "execution_count": 11,
   "id": "d1320e8d",
   "metadata": {},
   "outputs": [
    {
     "data": {
      "text/html": [
       "<div>\n",
       "<style scoped>\n",
       "    .dataframe tbody tr th:only-of-type {\n",
       "        vertical-align: middle;\n",
       "    }\n",
       "\n",
       "    .dataframe tbody tr th {\n",
       "        vertical-align: top;\n",
       "    }\n",
       "\n",
       "    .dataframe thead th {\n",
       "        text-align: right;\n",
       "    }\n",
       "</style>\n",
       "<table border=\"1\" class=\"dataframe\">\n",
       "  <thead>\n",
       "    <tr style=\"text-align: right;\">\n",
       "      <th></th>\n",
       "      <th>slope_of_peak_exercise_st_segment</th>\n",
       "      <th>thal</th>\n",
       "      <th>resting_blood_pressure</th>\n",
       "      <th>chest_pain_type</th>\n",
       "      <th>num_major_vessels</th>\n",
       "      <th>fasting_blood_sugar_gt_120_mg_per_dl</th>\n",
       "      <th>resting_ekg_results</th>\n",
       "      <th>serum_cholesterol_mg_per_dl</th>\n",
       "      <th>oldpeak_eq_st_depression</th>\n",
       "      <th>sex</th>\n",
       "      <th>age</th>\n",
       "      <th>max_heart_rate_achieved</th>\n",
       "      <th>exercise_induced_angina</th>\n",
       "      <th>heart_disease_present</th>\n",
       "    </tr>\n",
       "  </thead>\n",
       "  <tbody>\n",
       "    <tr>\n",
       "      <th>0</th>\n",
       "      <td>1</td>\n",
       "      <td>normal</td>\n",
       "      <td>128</td>\n",
       "      <td>2</td>\n",
       "      <td>0</td>\n",
       "      <td>0</td>\n",
       "      <td>2</td>\n",
       "      <td>308</td>\n",
       "      <td>0.0</td>\n",
       "      <td>1</td>\n",
       "      <td>45</td>\n",
       "      <td>170</td>\n",
       "      <td>0</td>\n",
       "      <td>0</td>\n",
       "    </tr>\n",
       "    <tr>\n",
       "      <th>1</th>\n",
       "      <td>2</td>\n",
       "      <td>normal</td>\n",
       "      <td>110</td>\n",
       "      <td>3</td>\n",
       "      <td>0</td>\n",
       "      <td>0</td>\n",
       "      <td>0</td>\n",
       "      <td>214</td>\n",
       "      <td>1.6</td>\n",
       "      <td>0</td>\n",
       "      <td>54</td>\n",
       "      <td>158</td>\n",
       "      <td>0</td>\n",
       "      <td>0</td>\n",
       "    </tr>\n",
       "    <tr>\n",
       "      <th>2</th>\n",
       "      <td>1</td>\n",
       "      <td>normal</td>\n",
       "      <td>125</td>\n",
       "      <td>4</td>\n",
       "      <td>3</td>\n",
       "      <td>0</td>\n",
       "      <td>2</td>\n",
       "      <td>304</td>\n",
       "      <td>0.0</td>\n",
       "      <td>1</td>\n",
       "      <td>77</td>\n",
       "      <td>162</td>\n",
       "      <td>1</td>\n",
       "      <td>1</td>\n",
       "    </tr>\n",
       "    <tr>\n",
       "      <th>3</th>\n",
       "      <td>1</td>\n",
       "      <td>reversible_defect</td>\n",
       "      <td>152</td>\n",
       "      <td>4</td>\n",
       "      <td>0</td>\n",
       "      <td>0</td>\n",
       "      <td>0</td>\n",
       "      <td>223</td>\n",
       "      <td>0.0</td>\n",
       "      <td>1</td>\n",
       "      <td>40</td>\n",
       "      <td>181</td>\n",
       "      <td>0</td>\n",
       "      <td>1</td>\n",
       "    </tr>\n",
       "    <tr>\n",
       "      <th>4</th>\n",
       "      <td>3</td>\n",
       "      <td>reversible_defect</td>\n",
       "      <td>178</td>\n",
       "      <td>1</td>\n",
       "      <td>0</td>\n",
       "      <td>0</td>\n",
       "      <td>2</td>\n",
       "      <td>270</td>\n",
       "      <td>4.2</td>\n",
       "      <td>1</td>\n",
       "      <td>59</td>\n",
       "      <td>145</td>\n",
       "      <td>0</td>\n",
       "      <td>0</td>\n",
       "    </tr>\n",
       "    <tr>\n",
       "      <th>...</th>\n",
       "      <td>...</td>\n",
       "      <td>...</td>\n",
       "      <td>...</td>\n",
       "      <td>...</td>\n",
       "      <td>...</td>\n",
       "      <td>...</td>\n",
       "      <td>...</td>\n",
       "      <td>...</td>\n",
       "      <td>...</td>\n",
       "      <td>...</td>\n",
       "      <td>...</td>\n",
       "      <td>...</td>\n",
       "      <td>...</td>\n",
       "      <td>...</td>\n",
       "    </tr>\n",
       "    <tr>\n",
       "      <th>175</th>\n",
       "      <td>2</td>\n",
       "      <td>reversible_defect</td>\n",
       "      <td>125</td>\n",
       "      <td>4</td>\n",
       "      <td>2</td>\n",
       "      <td>1</td>\n",
       "      <td>0</td>\n",
       "      <td>254</td>\n",
       "      <td>0.2</td>\n",
       "      <td>1</td>\n",
       "      <td>67</td>\n",
       "      <td>163</td>\n",
       "      <td>0</td>\n",
       "      <td>1</td>\n",
       "    </tr>\n",
       "    <tr>\n",
       "      <th>176</th>\n",
       "      <td>2</td>\n",
       "      <td>normal</td>\n",
       "      <td>180</td>\n",
       "      <td>4</td>\n",
       "      <td>0</td>\n",
       "      <td>0</td>\n",
       "      <td>1</td>\n",
       "      <td>327</td>\n",
       "      <td>3.4</td>\n",
       "      <td>0</td>\n",
       "      <td>55</td>\n",
       "      <td>117</td>\n",
       "      <td>1</td>\n",
       "      <td>1</td>\n",
       "    </tr>\n",
       "    <tr>\n",
       "      <th>177</th>\n",
       "      <td>2</td>\n",
       "      <td>reversible_defect</td>\n",
       "      <td>125</td>\n",
       "      <td>3</td>\n",
       "      <td>0</td>\n",
       "      <td>0</td>\n",
       "      <td>0</td>\n",
       "      <td>309</td>\n",
       "      <td>1.8</td>\n",
       "      <td>1</td>\n",
       "      <td>64</td>\n",
       "      <td>131</td>\n",
       "      <td>1</td>\n",
       "      <td>1</td>\n",
       "    </tr>\n",
       "    <tr>\n",
       "      <th>178</th>\n",
       "      <td>1</td>\n",
       "      <td>normal</td>\n",
       "      <td>124</td>\n",
       "      <td>3</td>\n",
       "      <td>2</td>\n",
       "      <td>1</td>\n",
       "      <td>0</td>\n",
       "      <td>255</td>\n",
       "      <td>0.0</td>\n",
       "      <td>1</td>\n",
       "      <td>48</td>\n",
       "      <td>175</td>\n",
       "      <td>0</td>\n",
       "      <td>0</td>\n",
       "    </tr>\n",
       "    <tr>\n",
       "      <th>179</th>\n",
       "      <td>1</td>\n",
       "      <td>normal</td>\n",
       "      <td>160</td>\n",
       "      <td>3</td>\n",
       "      <td>1</td>\n",
       "      <td>0</td>\n",
       "      <td>0</td>\n",
       "      <td>201</td>\n",
       "      <td>0.0</td>\n",
       "      <td>0</td>\n",
       "      <td>54</td>\n",
       "      <td>163</td>\n",
       "      <td>0</td>\n",
       "      <td>0</td>\n",
       "    </tr>\n",
       "  </tbody>\n",
       "</table>\n",
       "<p>180 rows × 14 columns</p>\n",
       "</div>"
      ],
      "text/plain": [
       "     slope_of_peak_exercise_st_segment               thal  \\\n",
       "0                                    1             normal   \n",
       "1                                    2             normal   \n",
       "2                                    1             normal   \n",
       "3                                    1  reversible_defect   \n",
       "4                                    3  reversible_defect   \n",
       "..                                 ...                ...   \n",
       "175                                  2  reversible_defect   \n",
       "176                                  2             normal   \n",
       "177                                  2  reversible_defect   \n",
       "178                                  1             normal   \n",
       "179                                  1             normal   \n",
       "\n",
       "     resting_blood_pressure  chest_pain_type  num_major_vessels  \\\n",
       "0                       128                2                  0   \n",
       "1                       110                3                  0   \n",
       "2                       125                4                  3   \n",
       "3                       152                4                  0   \n",
       "4                       178                1                  0   \n",
       "..                      ...              ...                ...   \n",
       "175                     125                4                  2   \n",
       "176                     180                4                  0   \n",
       "177                     125                3                  0   \n",
       "178                     124                3                  2   \n",
       "179                     160                3                  1   \n",
       "\n",
       "     fasting_blood_sugar_gt_120_mg_per_dl  resting_ekg_results  \\\n",
       "0                                       0                    2   \n",
       "1                                       0                    0   \n",
       "2                                       0                    2   \n",
       "3                                       0                    0   \n",
       "4                                       0                    2   \n",
       "..                                    ...                  ...   \n",
       "175                                     1                    0   \n",
       "176                                     0                    1   \n",
       "177                                     0                    0   \n",
       "178                                     1                    0   \n",
       "179                                     0                    0   \n",
       "\n",
       "     serum_cholesterol_mg_per_dl  oldpeak_eq_st_depression  sex  age  \\\n",
       "0                            308                       0.0    1   45   \n",
       "1                            214                       1.6    0   54   \n",
       "2                            304                       0.0    1   77   \n",
       "3                            223                       0.0    1   40   \n",
       "4                            270                       4.2    1   59   \n",
       "..                           ...                       ...  ...  ...   \n",
       "175                          254                       0.2    1   67   \n",
       "176                          327                       3.4    0   55   \n",
       "177                          309                       1.8    1   64   \n",
       "178                          255                       0.0    1   48   \n",
       "179                          201                       0.0    0   54   \n",
       "\n",
       "     max_heart_rate_achieved  exercise_induced_angina  heart_disease_present  \n",
       "0                        170                        0                      0  \n",
       "1                        158                        0                      0  \n",
       "2                        162                        1                      1  \n",
       "3                        181                        0                      1  \n",
       "4                        145                        0                      0  \n",
       "..                       ...                      ...                    ...  \n",
       "175                      163                        0                      1  \n",
       "176                      117                        1                      1  \n",
       "177                      131                        1                      1  \n",
       "178                      175                        0                      0  \n",
       "179                      163                        0                      0  \n",
       "\n",
       "[180 rows x 14 columns]"
      ]
     },
     "execution_count": 11,
     "metadata": {},
     "output_type": "execute_result"
    }
   ],
   "source": [
    "data"
   ]
  },
  {
   "cell_type": "code",
   "execution_count": 12,
   "id": "43b9c8a5",
   "metadata": {},
   "outputs": [
    {
     "data": {
      "text/plain": [
       "0"
      ]
     },
     "execution_count": 12,
     "metadata": {},
     "output_type": "execute_result"
    }
   ],
   "source": [
    "# to chack the duplicated values\n",
    "data.duplicated().sum()"
   ]
  },
  {
   "cell_type": "markdown",
   "id": "a2339076",
   "metadata": {},
   "source": [
    "<div style=\"color:white;background-color:red;padding:2%;border-radius:70px 70px;font-size:2em;text-align:center\"> <font color=\"black\" size=+3 face=\"Lucida Calligraphy\"><div style=\"align:center: justify\">Data visualisation  </font></div>"
   ]
  },
  {
   "cell_type": "code",
   "execution_count": 13,
   "id": "71134665",
   "metadata": {},
   "outputs": [
    {
     "data": {
      "image/png": "[encoded data removed]",
      "text/plain": [
       "<Figure size 432x288 with 1 Axes>"
      ]
     },
     "metadata": {
      "needs_background": "light"
     },
     "output_type": "display_data"
    }
   ],
   "source": [
    "sns.kdeplot( data=data, x=\"chest_pain_type\", hue=\"sex\", fill=True, common_norm=False, palette=\"tab10\", alpha=.5, linewidth=0);"
   ]
  },
  {
   "cell_type": "markdown",
   "id": "5157a42d",
   "metadata": {},
   "source": [
    "as we can see that chest pain is more in male"
   ]
  },
  {
   "cell_type": "code",
   "execution_count": 14,
   "id": "7ddf92c4",
   "metadata": {},
   "outputs": [
    {
     "data": {
      "image/png": "[encoded data removed]",
      "text/plain": [
       "<Figure size 808.875x360 with 2 Axes>"
      ]
     },
     "metadata": {
      "needs_background": "light"
     },
     "output_type": "display_data"
    }
   ],
   "source": [
    "sns.displot(data=data, x=\"serum_cholesterol_mg_per_dl\", hue=\"chest_pain_type\", col=\"sex\", kind=\"kde\");"
   ]
  },
  {
   "cell_type": "code",
   "execution_count": 15,
   "id": "b3071fd2",
   "metadata": {},
   "outputs": [
    {
     "data": {
      "image/png": "[encoded data removed]",
      "text/plain": [
       "<Figure size 432x288 with 1 Axes>"
      ]
     },
     "metadata": {
      "needs_background": "light"
     },
     "output_type": "display_data"
    }
   ],
   "source": [
    "data.nunique().plot(kind='bar')\n",
    "plt.title('No of unique values in the dataset')\n",
    "plt.show()"
   ]
  },
  {
   "cell_type": "markdown",
   "id": "3084f9fc",
   "metadata": {},
   "source": [
    "As we seen that there is a More unique values in our cholesterol column"
   ]
  },
  {
   "cell_type": "code",
   "execution_count": 16,
   "id": "dae5c143",
   "metadata": {},
   "outputs": [
    {
     "data": {
      "image/png": "[encoded data removed]",
      "text/plain": [
       "<Figure size 1008x1440 with 8 Axes>"
      ]
     },
     "metadata": {
      "needs_background": "light"
     },
     "output_type": "display_data"
    }
   ],
   "source": [
    "plt.figure(figsize=(14,20))\n",
    "\n",
    "plt.subplot(5,2,1)\n",
    "sns.distplot(data['age'],color='DeepPink')\n",
    "plt.subplot(5,2,2)\n",
    "sns.boxplot(data['age'],color='DeepPink')\n",
    "\n",
    "plt.subplot(5,2,3)\n",
    "sns.distplot(data['resting_blood_pressure'],color='DarkSlateGray')\n",
    "plt.subplot(5,2,4)\n",
    "sns.boxplot(data['resting_blood_pressure'],color='DarkSlateGray')\n",
    "\n",
    "plt.subplot(5,2,5)\n",
    "sns.distplot(data['serum_cholesterol_mg_per_dl'],color='Green')\n",
    "plt.subplot(5,2,6)\n",
    "sns.boxplot(data['serum_cholesterol_mg_per_dl'],color='Green')\n",
    "\n",
    "plt.subplot(5,2,7)\n",
    "sns.distplot(data['max_heart_rate_achieved'],color='Red')\n",
    "plt.subplot(5,2,8)\n",
    "sns.boxplot(data['max_heart_rate_achieved'],color='Red')\n",
    "\n",
    "\n",
    "\n",
    "plt.tight_layout()\n",
    "plt.show()"
   ]
  },
  {
   "cell_type": "code",
   "execution_count": 17,
   "id": "ffd1350a",
   "metadata": {},
   "outputs": [
    {
     "data": {
      "image/png": "[encoded data removed]",
      "text/plain": [
       "<Figure size 432x288 with 1 Axes>"
      ]
     },
     "metadata": {
      "needs_background": "light"
     },
     "output_type": "display_data"
    }
   ],
   "source": [
    "data['heart_disease_present'].value_counts().plot(kind='bar', color=['red','green']);"
   ]
  },
  {
   "cell_type": "code",
   "execution_count": 18,
   "id": "5fd68369",
   "metadata": {},
   "outputs": [
    {
     "data": {
      "text/plain": [
       "(array([0, 1]), [Text(0, 0, '0'), Text(1, 0, '1')])"
      ]
     },
     "execution_count": 18,
     "metadata": {},
     "output_type": "execute_result"
    },
    {
     "data": {
      "image/png": "[encoded data removed]",
      "text/plain": [
       "<Figure size 720x432 with 1 Axes>"
      ]
     },
     "metadata": {
      "needs_background": "light"
     },
     "output_type": "display_data"
    }
   ],
   "source": [
    "pd.crosstab(data.heart_disease_present,data.sex).plot(kind='bar',\n",
    " figsize=(10,6),\n",
    " color=['red','green'])\n",
    "plt.title('Heart Disease summary sex wise')\n",
    "plt.xlabel('0=No Heart Disease, 1=Heart Disease')\n",
    "plt.ylabel('Num be Individual')\n",
    "plt.legend(['Female','Male'])\n",
    "plt.xticks(rotation=0) "
   ]
  },
  {
   "cell_type": "code",
   "execution_count": 19,
   "id": "66de8e39",
   "metadata": {},
   "outputs": [
    {
     "data": {
      "image/png": "[encoded data removed]",
      "text/plain": [
       "<Figure size 720x432 with 1 Axes>"
      ]
     },
     "metadata": {
      "needs_background": "light"
     },
     "output_type": "display_data"
    }
   ],
   "source": [
    "# Finding Patterns in Data Using Scatter Plot\n",
    "plt.figure(figsize=(10,6))\n",
    "# Create scatter plot\n",
    "# plt.scatter(df.age,df.thalach,c='green'); # for total data\n",
    "plt.scatter(data.age[data.heart_disease_present==1],data.serum_cholesterol_mg_per_dl[data.heart_disease_present==1],c='red'); # for those who have heart disease\n",
    "plt.scatter(data.age[data.heart_disease_present==0],data.serum_cholesterol_mg_per_dl[data.heart_disease_present==0],c='green'); # for those who have not heart disease\n",
    "# doing makeup hahahahahah\n",
    "plt.title('Age vs Heart Rate')\n",
    "plt.xlabel('Age')\n",
    "plt.ylabel('Heart rate')\n",
    "plt.legend(['Heart Problem','No Heart Problem']);"
   ]
  },
  {
   "cell_type": "markdown",
   "id": "71291ab5",
   "metadata": {},
   "source": [
    "we seen that there is no relation between heart rate and age"
   ]
  },
  {
   "cell_type": "code",
   "execution_count": 20,
   "id": "a34e041c",
   "metadata": {},
   "outputs": [
    {
     "data": {
      "image/png": "[encoded data removed]",
      "text/plain": [
       "<Figure size 432x288 with 2 Axes>"
      ]
     },
     "metadata": {
      "needs_background": "light"
     },
     "output_type": "display_data"
    }
   ],
   "source": [
    "ax = plt.subplot(1,2,1)\n",
    "ax = sns.countplot(x='sex', data=data)\n",
    "ax.bar_label(ax.containers[0])\n",
    "plt.title(\"sex\", fontsize=20)\n",
    "ax =plt.subplot(1,2,2)\n",
    "ax=data['sex'].value_counts().plot.pie(explode=[0.1, 0.1],autopct='%1.2f%%',shadow=True);\n",
    "ax.set_title(label = \"sex\", fontsize = 20,color='Red',font='Lucida Calligraphy');"
   ]
  },
  {
   "cell_type": "markdown",
   "id": "ac3ec77b",
   "metadata": {},
   "source": [
    "as we Compare the data by six wise we conclude that heath disease will be more in male as compared to female"
   ]
  },
  {
   "cell_type": "code",
   "execution_count": 21,
   "id": "f87580a0",
   "metadata": {},
   "outputs": [
    {
     "data": {
      "image/png": "[encoded data removed]",
      "text/plain": [
       "<Figure size 1080x720 with 2 Axes>"
      ]
     },
     "metadata": {
      "needs_background": "light"
     },
     "output_type": "display_data"
    }
   ],
   "source": [
    "plt.figure(figsize=(15,10))\n",
    "sns.heatmap(data.corr(),annot=True,cmap='RdYlGn',annot_kws={'size':10})\n",
    "plt.show()"
   ]
  },
  {
   "cell_type": "markdown",
   "id": "e613d3ae",
   "metadata": {},
   "source": [
    "There is a no relation between any column"
   ]
  },
  {
   "cell_type": "code",
   "execution_count": 22,
   "id": "c8aa5aec",
   "metadata": {},
   "outputs": [],
   "source": [
    "#as we can se ther is a no duplicat values"
   ]
  },
  {
   "cell_type": "code",
   "execution_count": 23,
   "id": "c5e6adb4",
   "metadata": {},
   "outputs": [
    {
     "data": {
      "text/plain": [
       "(180, 14)"
      ]
     },
     "metadata": {},
     "output_type": "display_data"
    },
    {
     "data": {
      "text/plain": [
       "2520"
      ]
     },
     "metadata": {},
     "output_type": "display_data"
    }
   ],
   "source": [
    "# Here we can see the shape of data\n",
    "display(data.shape)\n",
    "display(data.size)"
   ]
  },
  {
   "cell_type": "code",
   "execution_count": 24,
   "id": "d5ec2136",
   "metadata": {},
   "outputs": [
    {
     "name": "stdout",
     "output_type": "stream",
     "text": [
      "<class 'pandas.core.frame.DataFrame'>\n",
      "RangeIndex: 180 entries, 0 to 179\n",
      "Data columns (total 14 columns):\n",
      " #   Column                                Non-Null Count  Dtype  \n",
      "---  ------                                --------------  -----  \n",
      " 0   slope_of_peak_exercise_st_segment     180 non-null    int64  \n",
      " 1   thal                                  180 non-null    object \n",
      " 2   resting_blood_pressure                180 non-null    int64  \n",
      " 3   chest_pain_type                       180 non-null    int64  \n",
      " 4   num_major_vessels                     180 non-null    int64  \n",
      " 5   fasting_blood_sugar_gt_120_mg_per_dl  180 non-null    int64  \n",
      " 6   resting_ekg_results                   180 non-null    int64  \n",
      " 7   serum_cholesterol_mg_per_dl           180 non-null    int64  \n",
      " 8   oldpeak_eq_st_depression              180 non-null    float64\n",
      " 9   sex                                   180 non-null    int64  \n",
      " 10  age                                   180 non-null    int64  \n",
      " 11  max_heart_rate_achieved               180 non-null    int64  \n",
      " 12  exercise_induced_angina               180 non-null    int64  \n",
      " 13  heart_disease_present                 180 non-null    int64  \n",
      "dtypes: float64(1), int64(12), object(1)\n",
      "memory usage: 19.8+ KB\n"
     ]
    }
   ],
   "source": [
    "data.info()"
   ]
  },
  {
   "cell_type": "code",
   "execution_count": 25,
   "id": "679ba56c",
   "metadata": {
    "scrolled": true
   },
   "outputs": [
    {
     "data": {
      "text/html": [
       "<div>\n",
       "<style scoped>\n",
       "    .dataframe tbody tr th:only-of-type {\n",
       "        vertical-align: middle;\n",
       "    }\n",
       "\n",
       "    .dataframe tbody tr th {\n",
       "        vertical-align: top;\n",
       "    }\n",
       "\n",
       "    .dataframe thead th {\n",
       "        text-align: right;\n",
       "    }\n",
       "</style>\n",
       "<table border=\"1\" class=\"dataframe\">\n",
       "  <thead>\n",
       "    <tr style=\"text-align: right;\">\n",
       "      <th></th>\n",
       "      <th>slope_of_peak_exercise_st_segment</th>\n",
       "      <th>resting_blood_pressure</th>\n",
       "      <th>chest_pain_type</th>\n",
       "      <th>num_major_vessels</th>\n",
       "      <th>fasting_blood_sugar_gt_120_mg_per_dl</th>\n",
       "      <th>resting_ekg_results</th>\n",
       "      <th>serum_cholesterol_mg_per_dl</th>\n",
       "      <th>oldpeak_eq_st_depression</th>\n",
       "      <th>sex</th>\n",
       "      <th>age</th>\n",
       "      <th>max_heart_rate_achieved</th>\n",
       "      <th>exercise_induced_angina</th>\n",
       "      <th>heart_disease_present</th>\n",
       "    </tr>\n",
       "  </thead>\n",
       "  <tbody>\n",
       "    <tr>\n",
       "      <th>count</th>\n",
       "      <td>180.000000</td>\n",
       "      <td>180.000000</td>\n",
       "      <td>180.000000</td>\n",
       "      <td>180.000000</td>\n",
       "      <td>180.000000</td>\n",
       "      <td>180.000000</td>\n",
       "      <td>180.000000</td>\n",
       "      <td>180.000000</td>\n",
       "      <td>180.000000</td>\n",
       "      <td>180.000000</td>\n",
       "      <td>180.000000</td>\n",
       "      <td>180.000000</td>\n",
       "      <td>180.000000</td>\n",
       "    </tr>\n",
       "    <tr>\n",
       "      <th>mean</th>\n",
       "      <td>1.550000</td>\n",
       "      <td>131.311111</td>\n",
       "      <td>3.155556</td>\n",
       "      <td>0.694444</td>\n",
       "      <td>0.161111</td>\n",
       "      <td>1.050000</td>\n",
       "      <td>249.211111</td>\n",
       "      <td>1.010000</td>\n",
       "      <td>0.688889</td>\n",
       "      <td>54.811111</td>\n",
       "      <td>149.483333</td>\n",
       "      <td>0.316667</td>\n",
       "      <td>0.444444</td>\n",
       "    </tr>\n",
       "    <tr>\n",
       "      <th>std</th>\n",
       "      <td>0.618838</td>\n",
       "      <td>17.010443</td>\n",
       "      <td>0.938454</td>\n",
       "      <td>0.969347</td>\n",
       "      <td>0.368659</td>\n",
       "      <td>0.998742</td>\n",
       "      <td>52.717969</td>\n",
       "      <td>1.121357</td>\n",
       "      <td>0.464239</td>\n",
       "      <td>9.334737</td>\n",
       "      <td>22.063513</td>\n",
       "      <td>0.466474</td>\n",
       "      <td>0.498290</td>\n",
       "    </tr>\n",
       "    <tr>\n",
       "      <th>min</th>\n",
       "      <td>1.000000</td>\n",
       "      <td>94.000000</td>\n",
       "      <td>1.000000</td>\n",
       "      <td>0.000000</td>\n",
       "      <td>0.000000</td>\n",
       "      <td>0.000000</td>\n",
       "      <td>126.000000</td>\n",
       "      <td>0.000000</td>\n",
       "      <td>0.000000</td>\n",
       "      <td>29.000000</td>\n",
       "      <td>96.000000</td>\n",
       "      <td>0.000000</td>\n",
       "      <td>0.000000</td>\n",
       "    </tr>\n",
       "    <tr>\n",
       "      <th>25%</th>\n",
       "      <td>1.000000</td>\n",
       "      <td>120.000000</td>\n",
       "      <td>3.000000</td>\n",
       "      <td>0.000000</td>\n",
       "      <td>0.000000</td>\n",
       "      <td>0.000000</td>\n",
       "      <td>213.750000</td>\n",
       "      <td>0.000000</td>\n",
       "      <td>0.000000</td>\n",
       "      <td>48.000000</td>\n",
       "      <td>132.000000</td>\n",
       "      <td>0.000000</td>\n",
       "      <td>0.000000</td>\n",
       "    </tr>\n",
       "    <tr>\n",
       "      <th>50%</th>\n",
       "      <td>1.000000</td>\n",
       "      <td>130.000000</td>\n",
       "      <td>3.000000</td>\n",
       "      <td>0.000000</td>\n",
       "      <td>0.000000</td>\n",
       "      <td>2.000000</td>\n",
       "      <td>245.500000</td>\n",
       "      <td>0.800000</td>\n",
       "      <td>1.000000</td>\n",
       "      <td>55.000000</td>\n",
       "      <td>152.000000</td>\n",
       "      <td>0.000000</td>\n",
       "      <td>0.000000</td>\n",
       "    </tr>\n",
       "    <tr>\n",
       "      <th>75%</th>\n",
       "      <td>2.000000</td>\n",
       "      <td>140.000000</td>\n",
       "      <td>4.000000</td>\n",
       "      <td>1.000000</td>\n",
       "      <td>0.000000</td>\n",
       "      <td>2.000000</td>\n",
       "      <td>281.250000</td>\n",
       "      <td>1.600000</td>\n",
       "      <td>1.000000</td>\n",
       "      <td>62.000000</td>\n",
       "      <td>166.250000</td>\n",
       "      <td>1.000000</td>\n",
       "      <td>1.000000</td>\n",
       "    </tr>\n",
       "    <tr>\n",
       "      <th>max</th>\n",
       "      <td>3.000000</td>\n",
       "      <td>180.000000</td>\n",
       "      <td>4.000000</td>\n",
       "      <td>3.000000</td>\n",
       "      <td>1.000000</td>\n",
       "      <td>2.000000</td>\n",
       "      <td>564.000000</td>\n",
       "      <td>6.200000</td>\n",
       "      <td>1.000000</td>\n",
       "      <td>77.000000</td>\n",
       "      <td>202.000000</td>\n",
       "      <td>1.000000</td>\n",
       "      <td>1.000000</td>\n",
       "    </tr>\n",
       "  </tbody>\n",
       "</table>\n",
       "</div>"
      ],
      "text/plain": [
       "       slope_of_peak_exercise_st_segment  resting_blood_pressure  \\\n",
       "count                         180.000000              180.000000   \n",
       "mean                            1.550000              131.311111   \n",
       "std                             0.618838               17.010443   \n",
       "min                             1.000000               94.000000   \n",
       "25%                             1.000000              120.000000   \n",
       "50%                             1.000000              130.000000   \n",
       "75%                             2.000000              140.000000   \n",
       "max                             3.000000              180.000000   \n",
       "\n",
       "       chest_pain_type  num_major_vessels  \\\n",
       "count       180.000000         180.000000   \n",
       "mean          3.155556           0.694444   \n",
       "std           0.938454           0.969347   \n",
       "min           1.000000           0.000000   \n",
       "25%           3.000000           0.000000   \n",
       "50%           3.000000           0.000000   \n",
       "75%           4.000000           1.000000   \n",
       "max           4.000000           3.000000   \n",
       "\n",
       "       fasting_blood_sugar_gt_120_mg_per_dl  resting_ekg_results  \\\n",
       "count                            180.000000           180.000000   \n",
       "mean                               0.161111             1.050000   \n",
       "std                                0.368659             0.998742   \n",
       "min                                0.000000             0.000000   \n",
       "25%                                0.000000             0.000000   \n",
       "50%                                0.000000             2.000000   \n",
       "75%                                0.000000             2.000000   \n",
       "max                                1.000000             2.000000   \n",
       "\n",
       "       serum_cholesterol_mg_per_dl  oldpeak_eq_st_depression         sex  \\\n",
       "count                   180.000000                180.000000  180.000000   \n",
       "mean                    249.211111                  1.010000    0.688889   \n",
       "std                      52.717969                  1.121357    0.464239   \n",
       "min                     126.000000                  0.000000    0.000000   \n",
       "25%                     213.750000                  0.000000    0.000000   \n",
       "50%                     245.500000                  0.800000    1.000000   \n",
       "75%                     281.250000                  1.600000    1.000000   \n",
       "max                     564.000000                  6.200000    1.000000   \n",
       "\n",
       "              age  max_heart_rate_achieved  exercise_induced_angina  \\\n",
       "count  180.000000               180.000000               180.000000   \n",
       "mean    54.811111               149.483333                 0.316667   \n",
       "std      9.334737                22.063513                 0.466474   \n",
       "min     29.000000                96.000000                 0.000000   \n",
       "25%     48.000000               132.000000                 0.000000   \n",
       "50%     55.000000               152.000000                 0.000000   \n",
       "75%     62.000000               166.250000                 1.000000   \n",
       "max     77.000000               202.000000                 1.000000   \n",
       "\n",
       "       heart_disease_present  \n",
       "count             180.000000  \n",
       "mean                0.444444  \n",
       "std                 0.498290  \n",
       "min                 0.000000  \n",
       "25%                 0.000000  \n",
       "50%                 0.000000  \n",
       "75%                 1.000000  \n",
       "max                 1.000000  "
      ]
     },
     "execution_count": 25,
     "metadata": {},
     "output_type": "execute_result"
    }
   ],
   "source": [
    "data.describe()"
   ]
  },
  {
   "cell_type": "code",
   "execution_count": 26,
   "id": "4bb7553e",
   "metadata": {},
   "outputs": [
    {
     "data": {
      "text/plain": [
       "slope_of_peak_exercise_st_segment       0.0\n",
       "thal                                    0.0\n",
       "resting_blood_pressure                  0.0\n",
       "chest_pain_type                         0.0\n",
       "num_major_vessels                       0.0\n",
       "fasting_blood_sugar_gt_120_mg_per_dl    0.0\n",
       "resting_ekg_results                     0.0\n",
       "serum_cholesterol_mg_per_dl             0.0\n",
       "oldpeak_eq_st_depression                0.0\n",
       "sex                                     0.0\n",
       "age                                     0.0\n",
       "max_heart_rate_achieved                 0.0\n",
       "exercise_induced_angina                 0.0\n",
       "heart_disease_present                   0.0\n",
       "dtype: float64"
      ]
     },
     "execution_count": 26,
     "metadata": {},
     "output_type": "execute_result"
    }
   ],
   "source": [
    "# missing valu chaking \n",
    "data.isnull().mean()*100  "
   ]
  },
  {
   "cell_type": "code",
   "execution_count": 27,
   "id": "a9c86fe2",
   "metadata": {},
   "outputs": [
    {
     "data": {
      "text/plain": [
       "False"
      ]
     },
     "execution_count": 27,
     "metadata": {},
     "output_type": "execute_result"
    }
   ],
   "source": [
    "# To check missing value\n",
    "data_dup = data.duplicated().any()\n",
    "data_dup"
   ]
  },
  {
   "cell_type": "markdown",
   "id": "e5765e75",
   "metadata": {},
   "source": [
    "as we see that ther is no missing value "
   ]
  },
  {
   "cell_type": "code",
   "execution_count": 28,
   "id": "80650eb7",
   "metadata": {},
   "outputs": [
    {
     "data": {
      "image/png": "[encoded data removed]",
      "text/plain": [
       "<Figure size 1800x720 with 2 Axes>"
      ]
     },
     "metadata": {
      "needs_background": "light"
     },
     "output_type": "display_data"
    }
   ],
   "source": [
    "import missingno as msno\n",
    "msno.matrix(data)\n",
    "plt.show()"
   ]
  },
  {
   "cell_type": "markdown",
   "id": "8d39ab71",
   "metadata": {},
   "source": [
    "<div style=\"color:white;background-color:red;padding:2%;border-radius:70px 70px;font-size:2em;text-align:center\"> <font color=\"black\" size=+3 face=\"Lucida Calligraphy\"><div style=\"align:center: justify\">Data Processing  </font></div>"
   ]
  },
  {
   "cell_type": "code",
   "execution_count": 29,
   "id": "e1733a09",
   "metadata": {},
   "outputs": [
    {
     "data": {
      "text/plain": [
       "array(['normal', 'reversible_defect', 'fixed_defect'], dtype=object)"
      ]
     },
     "execution_count": 29,
     "metadata": {},
     "output_type": "execute_result"
    }
   ],
   "source": [
    "# Here we can see the uniqueness of the thal\n",
    "data.thal.unique()#unique values"
   ]
  },
  {
   "cell_type": "code",
   "execution_count": 30,
   "id": "8b35b91e",
   "metadata": {},
   "outputs": [],
   "source": [
    "data.thal=data.thal.map({'normal':2,'reversible_defect':1,'fixed_defect':0})#imputation using map function"
   ]
  },
  {
   "cell_type": "code",
   "execution_count": 31,
   "id": "13d2ff0f",
   "metadata": {},
   "outputs": [],
   "source": [
    "cont_val = [\"slope_of_peak_exercise_st_segment\",\"thal\",\"resting_blood_pressure\",\"chest_pain_type\",\"num_major_vessels\",\"resting_ekg_results\",\"serum_cholesterol_mg_per_dl\",\"oldpeak_eq_st_depression\",\"age\",\"max_heart_rate_achieved\"]"
   ]
  },
  {
   "cell_type": "code",
   "execution_count": 32,
   "id": "4b72344f",
   "metadata": {},
   "outputs": [
    {
     "data": {
      "text/plain": [
       "['slope_of_peak_exercise_st_segment',\n",
       " 'thal',\n",
       " 'resting_blood_pressure',\n",
       " 'chest_pain_type',\n",
       " 'num_major_vessels',\n",
       " 'resting_ekg_results',\n",
       " 'serum_cholesterol_mg_per_dl',\n",
       " 'oldpeak_eq_st_depression',\n",
       " 'age',\n",
       " 'max_heart_rate_achieved']"
      ]
     },
     "execution_count": 32,
     "metadata": {},
     "output_type": "execute_result"
    }
   ],
   "source": [
    "cont_val"
   ]
  },
  {
   "cell_type": "code",
   "execution_count": null,
   "id": "bf64ac86",
   "metadata": {},
   "outputs": [],
   "source": []
  },
  {
   "cell_type": "markdown",
   "id": "887ea869",
   "metadata": {},
   "source": [
    "<div style=\"color:white;background-color:red;padding:2%;border-radius:70px 70px;font-size:2em;text-align:center\"> <font color=\"black\" size=+3 face=\"Lucida Calligraphy\"><div style=\"align:center: justify\">Feature Scaling  </font></div>"
   ]
  },
  {
   "cell_type": "code",
   "execution_count": 33,
   "id": "2a762dc1",
   "metadata": {},
   "outputs": [],
   "source": [
    "st = StandardScaler()\n",
    "data[cont_val] = st.fit_transform(data[cont_val])"
   ]
  },
  {
   "cell_type": "code",
   "execution_count": 34,
   "id": "98187326",
   "metadata": {},
   "outputs": [
    {
     "data": {
      "text/html": [
       "<div>\n",
       "<style scoped>\n",
       "    .dataframe tbody tr th:only-of-type {\n",
       "        vertical-align: middle;\n",
       "    }\n",
       "\n",
       "    .dataframe tbody tr th {\n",
       "        vertical-align: top;\n",
       "    }\n",
       "\n",
       "    .dataframe thead th {\n",
       "        text-align: right;\n",
       "    }\n",
       "</style>\n",
       "<table border=\"1\" class=\"dataframe\">\n",
       "  <thead>\n",
       "    <tr style=\"text-align: right;\">\n",
       "      <th></th>\n",
       "      <th>slope_of_peak_exercise_st_segment</th>\n",
       "      <th>thal</th>\n",
       "      <th>resting_blood_pressure</th>\n",
       "      <th>chest_pain_type</th>\n",
       "      <th>num_major_vessels</th>\n",
       "      <th>fasting_blood_sugar_gt_120_mg_per_dl</th>\n",
       "      <th>resting_ekg_results</th>\n",
       "      <th>serum_cholesterol_mg_per_dl</th>\n",
       "      <th>oldpeak_eq_st_depression</th>\n",
       "      <th>sex</th>\n",
       "      <th>age</th>\n",
       "      <th>max_heart_rate_achieved</th>\n",
       "      <th>exercise_induced_angina</th>\n",
       "      <th>heart_disease_present</th>\n",
       "    </tr>\n",
       "  </thead>\n",
       "  <tbody>\n",
       "    <tr>\n",
       "      <th>0</th>\n",
       "      <td>-0.891241</td>\n",
       "      <td>0.858898</td>\n",
       "      <td>-0.195195</td>\n",
       "      <td>-1.234775</td>\n",
       "      <td>-0.718403</td>\n",
       "      <td>0</td>\n",
       "      <td>0.953850</td>\n",
       "      <td>1.118269</td>\n",
       "      <td>-0.903207</td>\n",
       "      <td>1</td>\n",
       "      <td>-1.053964</td>\n",
       "      <td>0.932485</td>\n",
       "      <td>0</td>\n",
       "      <td>0</td>\n",
       "    </tr>\n",
       "    <tr>\n",
       "      <th>1</th>\n",
       "      <td>0.729197</td>\n",
       "      <td>0.858898</td>\n",
       "      <td>-1.256320</td>\n",
       "      <td>-0.166220</td>\n",
       "      <td>-0.718403</td>\n",
       "      <td>0</td>\n",
       "      <td>-1.054255</td>\n",
       "      <td>-0.669778</td>\n",
       "      <td>0.527616</td>\n",
       "      <td>0</td>\n",
       "      <td>-0.087134</td>\n",
       "      <td>0.387084</td>\n",
       "      <td>0</td>\n",
       "      <td>0</td>\n",
       "    </tr>\n",
       "    <tr>\n",
       "      <th>2</th>\n",
       "      <td>-0.891241</td>\n",
       "      <td>0.858898</td>\n",
       "      <td>-0.372049</td>\n",
       "      <td>0.902335</td>\n",
       "      <td>2.385097</td>\n",
       "      <td>0</td>\n",
       "      <td>0.953850</td>\n",
       "      <td>1.042182</td>\n",
       "      <td>-0.903207</td>\n",
       "      <td>1</td>\n",
       "      <td>2.383654</td>\n",
       "      <td>0.568884</td>\n",
       "      <td>1</td>\n",
       "      <td>1</td>\n",
       "    </tr>\n",
       "    <tr>\n",
       "      <th>3</th>\n",
       "      <td>-0.891241</td>\n",
       "      <td>-0.858898</td>\n",
       "      <td>1.219639</td>\n",
       "      <td>0.902335</td>\n",
       "      <td>-0.718403</td>\n",
       "      <td>0</td>\n",
       "      <td>-1.054255</td>\n",
       "      <td>-0.498582</td>\n",
       "      <td>-0.903207</td>\n",
       "      <td>1</td>\n",
       "      <td>-1.591092</td>\n",
       "      <td>1.432436</td>\n",
       "      <td>0</td>\n",
       "      <td>1</td>\n",
       "    </tr>\n",
       "    <tr>\n",
       "      <th>4</th>\n",
       "      <td>2.349636</td>\n",
       "      <td>-0.858898</td>\n",
       "      <td>2.752375</td>\n",
       "      <td>-2.303330</td>\n",
       "      <td>-0.718403</td>\n",
       "      <td>0</td>\n",
       "      <td>0.953850</td>\n",
       "      <td>0.395442</td>\n",
       "      <td>2.852703</td>\n",
       "      <td>1</td>\n",
       "      <td>0.449994</td>\n",
       "      <td>-0.203768</td>\n",
       "      <td>0</td>\n",
       "      <td>0</td>\n",
       "    </tr>\n",
       "  </tbody>\n",
       "</table>\n",
       "</div>"
      ],
      "text/plain": [
       "   slope_of_peak_exercise_st_segment      thal  resting_blood_pressure  \\\n",
       "0                          -0.891241  0.858898               -0.195195   \n",
       "1                           0.729197  0.858898               -1.256320   \n",
       "2                          -0.891241  0.858898               -0.372049   \n",
       "3                          -0.891241 -0.858898                1.219639   \n",
       "4                           2.349636 -0.858898                2.752375   \n",
       "\n",
       "   chest_pain_type  num_major_vessels  fasting_blood_sugar_gt_120_mg_per_dl  \\\n",
       "0        -1.234775          -0.718403                                     0   \n",
       "1        -0.166220          -0.718403                                     0   \n",
       "2         0.902335           2.385097                                     0   \n",
       "3         0.902335          -0.718403                                     0   \n",
       "4        -2.303330          -0.718403                                     0   \n",
       "\n",
       "   resting_ekg_results  serum_cholesterol_mg_per_dl  oldpeak_eq_st_depression  \\\n",
       "0             0.953850                     1.118269                 -0.903207   \n",
       "1            -1.054255                    -0.669778                  0.527616   \n",
       "2             0.953850                     1.042182                 -0.903207   \n",
       "3            -1.054255                    -0.498582                 -0.903207   \n",
       "4             0.953850                     0.395442                  2.852703   \n",
       "\n",
       "   sex       age  max_heart_rate_achieved  exercise_induced_angina  \\\n",
       "0    1 -1.053964                 0.932485                        0   \n",
       "1    0 -0.087134                 0.387084                        0   \n",
       "2    1  2.383654                 0.568884                        1   \n",
       "3    1 -1.591092                 1.432436                        0   \n",
       "4    1  0.449994                -0.203768                        0   \n",
       "\n",
       "   heart_disease_present  \n",
       "0                      0  \n",
       "1                      0  \n",
       "2                      1  \n",
       "3                      1  \n",
       "4                      0  "
      ]
     },
     "execution_count": 34,
     "metadata": {},
     "output_type": "execute_result"
    }
   ],
   "source": [
    "data.head()"
   ]
  },
  {
   "cell_type": "code",
   "execution_count": 35,
   "id": "5d9821f3",
   "metadata": {},
   "outputs": [],
   "source": [
    "# Splitting the dataset into the training set and test set"
   ]
  },
  {
   "cell_type": "code",
   "execution_count": 36,
   "id": "5965cae5",
   "metadata": {},
   "outputs": [],
   "source": [
    "x = data.drop(\"heart_disease_present\",axis=1)"
   ]
  },
  {
   "cell_type": "code",
   "execution_count": 37,
   "id": "5934eaa9",
   "metadata": {},
   "outputs": [
    {
     "data": {
      "text/html": [
       "<div>\n",
       "<style scoped>\n",
       "    .dataframe tbody tr th:only-of-type {\n",
       "        vertical-align: middle;\n",
       "    }\n",
       "\n",
       "    .dataframe tbody tr th {\n",
       "        vertical-align: top;\n",
       "    }\n",
       "\n",
       "    .dataframe thead th {\n",
       "        text-align: right;\n",
       "    }\n",
       "</style>\n",
       "<table border=\"1\" class=\"dataframe\">\n",
       "  <thead>\n",
       "    <tr style=\"text-align: right;\">\n",
       "      <th></th>\n",
       "      <th>slope_of_peak_exercise_st_segment</th>\n",
       "      <th>thal</th>\n",
       "      <th>resting_blood_pressure</th>\n",
       "      <th>chest_pain_type</th>\n",
       "      <th>num_major_vessels</th>\n",
       "      <th>fasting_blood_sugar_gt_120_mg_per_dl</th>\n",
       "      <th>resting_ekg_results</th>\n",
       "      <th>serum_cholesterol_mg_per_dl</th>\n",
       "      <th>oldpeak_eq_st_depression</th>\n",
       "      <th>sex</th>\n",
       "      <th>age</th>\n",
       "      <th>max_heart_rate_achieved</th>\n",
       "      <th>exercise_induced_angina</th>\n",
       "    </tr>\n",
       "  </thead>\n",
       "  <tbody>\n",
       "    <tr>\n",
       "      <th>0</th>\n",
       "      <td>-0.891241</td>\n",
       "      <td>0.858898</td>\n",
       "      <td>-0.195195</td>\n",
       "      <td>-1.234775</td>\n",
       "      <td>-0.718403</td>\n",
       "      <td>0</td>\n",
       "      <td>0.953850</td>\n",
       "      <td>1.118269</td>\n",
       "      <td>-0.903207</td>\n",
       "      <td>1</td>\n",
       "      <td>-1.053964</td>\n",
       "      <td>0.932485</td>\n",
       "      <td>0</td>\n",
       "    </tr>\n",
       "    <tr>\n",
       "      <th>1</th>\n",
       "      <td>0.729197</td>\n",
       "      <td>0.858898</td>\n",
       "      <td>-1.256320</td>\n",
       "      <td>-0.166220</td>\n",
       "      <td>-0.718403</td>\n",
       "      <td>0</td>\n",
       "      <td>-1.054255</td>\n",
       "      <td>-0.669778</td>\n",
       "      <td>0.527616</td>\n",
       "      <td>0</td>\n",
       "      <td>-0.087134</td>\n",
       "      <td>0.387084</td>\n",
       "      <td>0</td>\n",
       "    </tr>\n",
       "    <tr>\n",
       "      <th>2</th>\n",
       "      <td>-0.891241</td>\n",
       "      <td>0.858898</td>\n",
       "      <td>-0.372049</td>\n",
       "      <td>0.902335</td>\n",
       "      <td>2.385097</td>\n",
       "      <td>0</td>\n",
       "      <td>0.953850</td>\n",
       "      <td>1.042182</td>\n",
       "      <td>-0.903207</td>\n",
       "      <td>1</td>\n",
       "      <td>2.383654</td>\n",
       "      <td>0.568884</td>\n",
       "      <td>1</td>\n",
       "    </tr>\n",
       "    <tr>\n",
       "      <th>3</th>\n",
       "      <td>-0.891241</td>\n",
       "      <td>-0.858898</td>\n",
       "      <td>1.219639</td>\n",
       "      <td>0.902335</td>\n",
       "      <td>-0.718403</td>\n",
       "      <td>0</td>\n",
       "      <td>-1.054255</td>\n",
       "      <td>-0.498582</td>\n",
       "      <td>-0.903207</td>\n",
       "      <td>1</td>\n",
       "      <td>-1.591092</td>\n",
       "      <td>1.432436</td>\n",
       "      <td>0</td>\n",
       "    </tr>\n",
       "    <tr>\n",
       "      <th>4</th>\n",
       "      <td>2.349636</td>\n",
       "      <td>-0.858898</td>\n",
       "      <td>2.752375</td>\n",
       "      <td>-2.303330</td>\n",
       "      <td>-0.718403</td>\n",
       "      <td>0</td>\n",
       "      <td>0.953850</td>\n",
       "      <td>0.395442</td>\n",
       "      <td>2.852703</td>\n",
       "      <td>1</td>\n",
       "      <td>0.449994</td>\n",
       "      <td>-0.203768</td>\n",
       "      <td>0</td>\n",
       "    </tr>\n",
       "    <tr>\n",
       "      <th>...</th>\n",
       "      <td>...</td>\n",
       "      <td>...</td>\n",
       "      <td>...</td>\n",
       "      <td>...</td>\n",
       "      <td>...</td>\n",
       "      <td>...</td>\n",
       "      <td>...</td>\n",
       "      <td>...</td>\n",
       "      <td>...</td>\n",
       "      <td>...</td>\n",
       "      <td>...</td>\n",
       "      <td>...</td>\n",
       "      <td>...</td>\n",
       "    </tr>\n",
       "    <tr>\n",
       "      <th>175</th>\n",
       "      <td>0.729197</td>\n",
       "      <td>-0.858898</td>\n",
       "      <td>-0.372049</td>\n",
       "      <td>0.902335</td>\n",
       "      <td>1.350597</td>\n",
       "      <td>1</td>\n",
       "      <td>-1.054255</td>\n",
       "      <td>0.091093</td>\n",
       "      <td>-0.724354</td>\n",
       "      <td>1</td>\n",
       "      <td>1.309398</td>\n",
       "      <td>0.614334</td>\n",
       "      <td>0</td>\n",
       "    </tr>\n",
       "    <tr>\n",
       "      <th>176</th>\n",
       "      <td>0.729197</td>\n",
       "      <td>0.858898</td>\n",
       "      <td>2.870278</td>\n",
       "      <td>0.902335</td>\n",
       "      <td>-0.718403</td>\n",
       "      <td>0</td>\n",
       "      <td>-0.050203</td>\n",
       "      <td>1.479683</td>\n",
       "      <td>2.137292</td>\n",
       "      <td>0</td>\n",
       "      <td>0.020291</td>\n",
       "      <td>-1.476372</td>\n",
       "      <td>1</td>\n",
       "    </tr>\n",
       "    <tr>\n",
       "      <th>177</th>\n",
       "      <td>0.729197</td>\n",
       "      <td>-0.858898</td>\n",
       "      <td>-0.372049</td>\n",
       "      <td>-0.166220</td>\n",
       "      <td>-0.718403</td>\n",
       "      <td>0</td>\n",
       "      <td>-1.054255</td>\n",
       "      <td>1.137291</td>\n",
       "      <td>0.706469</td>\n",
       "      <td>1</td>\n",
       "      <td>0.987122</td>\n",
       "      <td>-0.840070</td>\n",
       "      <td>1</td>\n",
       "    </tr>\n",
       "    <tr>\n",
       "      <th>178</th>\n",
       "      <td>-0.891241</td>\n",
       "      <td>0.858898</td>\n",
       "      <td>-0.431000</td>\n",
       "      <td>-0.166220</td>\n",
       "      <td>1.350597</td>\n",
       "      <td>1</td>\n",
       "      <td>-1.054255</td>\n",
       "      <td>0.110115</td>\n",
       "      <td>-0.903207</td>\n",
       "      <td>1</td>\n",
       "      <td>-0.731688</td>\n",
       "      <td>1.159736</td>\n",
       "      <td>0</td>\n",
       "    </tr>\n",
       "    <tr>\n",
       "      <th>179</th>\n",
       "      <td>-0.891241</td>\n",
       "      <td>0.858898</td>\n",
       "      <td>1.691250</td>\n",
       "      <td>-0.166220</td>\n",
       "      <td>0.316097</td>\n",
       "      <td>0</td>\n",
       "      <td>-1.054255</td>\n",
       "      <td>-0.917061</td>\n",
       "      <td>-0.903207</td>\n",
       "      <td>0</td>\n",
       "      <td>-0.087134</td>\n",
       "      <td>0.614334</td>\n",
       "      <td>0</td>\n",
       "    </tr>\n",
       "  </tbody>\n",
       "</table>\n",
       "<p>180 rows × 13 columns</p>\n",
       "</div>"
      ],
      "text/plain": [
       "     slope_of_peak_exercise_st_segment      thal  resting_blood_pressure  \\\n",
       "0                            -0.891241  0.858898               -0.195195   \n",
       "1                             0.729197  0.858898               -1.256320   \n",
       "2                            -0.891241  0.858898               -0.372049   \n",
       "3                            -0.891241 -0.858898                1.219639   \n",
       "4                             2.349636 -0.858898                2.752375   \n",
       "..                                 ...       ...                     ...   \n",
       "175                           0.729197 -0.858898               -0.372049   \n",
       "176                           0.729197  0.858898                2.870278   \n",
       "177                           0.729197 -0.858898               -0.372049   \n",
       "178                          -0.891241  0.858898               -0.431000   \n",
       "179                          -0.891241  0.858898                1.691250   \n",
       "\n",
       "     chest_pain_type  num_major_vessels  fasting_blood_sugar_gt_120_mg_per_dl  \\\n",
       "0          -1.234775          -0.718403                                     0   \n",
       "1          -0.166220          -0.718403                                     0   \n",
       "2           0.902335           2.385097                                     0   \n",
       "3           0.902335          -0.718403                                     0   \n",
       "4          -2.303330          -0.718403                                     0   \n",
       "..               ...                ...                                   ...   \n",
       "175         0.902335           1.350597                                     1   \n",
       "176         0.902335          -0.718403                                     0   \n",
       "177        -0.166220          -0.718403                                     0   \n",
       "178        -0.166220           1.350597                                     1   \n",
       "179        -0.166220           0.316097                                     0   \n",
       "\n",
       "     resting_ekg_results  serum_cholesterol_mg_per_dl  \\\n",
       "0               0.953850                     1.118269   \n",
       "1              -1.054255                    -0.669778   \n",
       "2               0.953850                     1.042182   \n",
       "3              -1.054255                    -0.498582   \n",
       "4               0.953850                     0.395442   \n",
       "..                   ...                          ...   \n",
       "175            -1.054255                     0.091093   \n",
       "176            -0.050203                     1.479683   \n",
       "177            -1.054255                     1.137291   \n",
       "178            -1.054255                     0.110115   \n",
       "179            -1.054255                    -0.917061   \n",
       "\n",
       "     oldpeak_eq_st_depression  sex       age  max_heart_rate_achieved  \\\n",
       "0                   -0.903207    1 -1.053964                 0.932485   \n",
       "1                    0.527616    0 -0.087134                 0.387084   \n",
       "2                   -0.903207    1  2.383654                 0.568884   \n",
       "3                   -0.903207    1 -1.591092                 1.432436   \n",
       "4                    2.852703    1  0.449994                -0.203768   \n",
       "..                        ...  ...       ...                      ...   \n",
       "175                 -0.724354    1  1.309398                 0.614334   \n",
       "176                  2.137292    0  0.020291                -1.476372   \n",
       "177                  0.706469    1  0.987122                -0.840070   \n",
       "178                 -0.903207    1 -0.731688                 1.159736   \n",
       "179                 -0.903207    0 -0.087134                 0.614334   \n",
       "\n",
       "     exercise_induced_angina  \n",
       "0                          0  \n",
       "1                          0  \n",
       "2                          1  \n",
       "3                          0  \n",
       "4                          0  \n",
       "..                       ...  \n",
       "175                        0  \n",
       "176                        1  \n",
       "177                        1  \n",
       "178                        0  \n",
       "179                        0  \n",
       "\n",
       "[180 rows x 13 columns]"
      ]
     },
     "execution_count": 37,
     "metadata": {},
     "output_type": "execute_result"
    }
   ],
   "source": [
    "x"
   ]
  },
  {
   "cell_type": "code",
   "execution_count": 38,
   "id": "e826397c",
   "metadata": {},
   "outputs": [],
   "source": [
    "y = data[\"heart_disease_present\"]"
   ]
  },
  {
   "cell_type": "code",
   "execution_count": 39,
   "id": "a42e373c",
   "metadata": {},
   "outputs": [
    {
     "data": {
      "text/plain": [
       "0      0\n",
       "1      0\n",
       "2      1\n",
       "3      1\n",
       "4      0\n",
       "      ..\n",
       "175    1\n",
       "176    1\n",
       "177    1\n",
       "178    0\n",
       "179    0\n",
       "Name: heart_disease_present, Length: 180, dtype: int64"
      ]
     },
     "execution_count": 39,
     "metadata": {},
     "output_type": "execute_result"
    }
   ],
   "source": [
    "y"
   ]
  },
  {
   "cell_type": "code",
   "execution_count": 40,
   "id": "15a294d0",
   "metadata": {},
   "outputs": [],
   "source": [
    "from sklearn.model_selection import train_test_split"
   ]
  },
  {
   "cell_type": "code",
   "execution_count": 41,
   "id": "3ccb3231",
   "metadata": {},
   "outputs": [],
   "source": [
    "x_train,x_test,y_train,y_test=train_test_split(x,y,test_size=0.2,random_state=42)"
   ]
  },
  {
   "cell_type": "code",
   "execution_count": null,
   "id": "8dc23ebb",
   "metadata": {},
   "outputs": [],
   "source": []
  },
  {
   "cell_type": "markdown",
   "id": "1c8cf9ef",
   "metadata": {},
   "source": [
    "<div style=\"color:white;background-color:red;padding:2%;border-radius:70px 70px;font-size:2em;text-align:center\"> <font color=\"black\" size=+3 face=\"Lucida Calligraphy\"><div style=\"align:center: justify\">Logistic Regression </font></div>"
   ]
  },
  {
   "cell_type": "code",
   "execution_count": 42,
   "id": "59b3f82a",
   "metadata": {},
   "outputs": [],
   "source": [
    "from sklearn.linear_model import LogisticRegression"
   ]
  },
  {
   "cell_type": "code",
   "execution_count": 43,
   "id": "57289397",
   "metadata": {
    "scrolled": true
   },
   "outputs": [
    {
     "data": {
      "text/plain": [
       "LogisticRegression()"
      ]
     },
     "execution_count": 43,
     "metadata": {},
     "output_type": "execute_result"
    }
   ],
   "source": [
    "log = LogisticRegression()\n",
    "log.fit(x_train,y_train)"
   ]
  },
  {
   "cell_type": "code",
   "execution_count": 44,
   "id": "b8c4b962",
   "metadata": {},
   "outputs": [],
   "source": [
    "y_pred1 = log.predict(x_test)"
   ]
  },
  {
   "cell_type": "code",
   "execution_count": 45,
   "id": "5e06f29e",
   "metadata": {},
   "outputs": [],
   "source": [
    "from sklearn.metrics import accuracy_score"
   ]
  },
  {
   "cell_type": "code",
   "execution_count": 46,
   "id": "40b79b29",
   "metadata": {},
   "outputs": [
    {
     "data": {
      "text/plain": [
       "0.8055555555555556"
      ]
     },
     "execution_count": 46,
     "metadata": {},
     "output_type": "execute_result"
    }
   ],
   "source": [
    "accuracy_score(y_test,y_pred1)"
   ]
  },
  {
   "cell_type": "markdown",
   "id": "2cee1cc2",
   "metadata": {},
   "source": [
    "<div style=\"color:white;background-color:red;padding:2%;border-radius:70px 70px;font-size:2em;text-align:center\"> <font color=\"black\" size=+3 face=\"Lucida Calligraphy\"><div style=\"align:center: justify\">Support Vector Classifier (SVM)  </font></div>"
   ]
  },
  {
   "cell_type": "code",
   "execution_count": 47,
   "id": "37c1a81a",
   "metadata": {},
   "outputs": [],
   "source": [
    "# Support Vector Classifier Model"
   ]
  },
  {
   "cell_type": "code",
   "execution_count": 48,
   "id": "da89f06d",
   "metadata": {},
   "outputs": [],
   "source": [
    "from sklearn import svm"
   ]
  },
  {
   "cell_type": "code",
   "execution_count": 49,
   "id": "0c0fc3f4",
   "metadata": {},
   "outputs": [],
   "source": [
    "svm = svm.SVC()"
   ]
  },
  {
   "cell_type": "code",
   "execution_count": 50,
   "id": "5fe4bd1b",
   "metadata": {},
   "outputs": [
    {
     "data": {
      "text/plain": [
       "SVC()"
      ]
     },
     "execution_count": 50,
     "metadata": {},
     "output_type": "execute_result"
    }
   ],
   "source": [
    "svm.fit(x_train,y_train)"
   ]
  },
  {
   "cell_type": "code",
   "execution_count": 51,
   "id": "507b1226",
   "metadata": {},
   "outputs": [],
   "source": [
    "y_pred2 =svm.predict(x_test) "
   ]
  },
  {
   "cell_type": "code",
   "execution_count": 52,
   "id": "ac4fd516",
   "metadata": {},
   "outputs": [
    {
     "data": {
      "text/plain": [
       "0.8333333333333334"
      ]
     },
     "execution_count": 52,
     "metadata": {},
     "output_type": "execute_result"
    }
   ],
   "source": [
    "accuracy_score(y_test,y_pred2)"
   ]
  },
  {
   "cell_type": "markdown",
   "id": "12e0ba12",
   "metadata": {},
   "source": [
    "<div style=\"color:white;background-color:red;padding:2%;border-radius:70px 70px;font-size:2em;text-align:center\"> <font color=\"black\" size=+3 face=\"Lucida Calligraphy\"><div style=\"align:center: justify\">KNeighbors Classifiler  </font></div>"
   ]
  },
  {
   "cell_type": "code",
   "execution_count": 53,
   "id": "53c6c619",
   "metadata": {},
   "outputs": [],
   "source": [
    "from sklearn.neighbors import KNeighborsClassifier"
   ]
  },
  {
   "cell_type": "code",
   "execution_count": 54,
   "id": "6679e9ae",
   "metadata": {},
   "outputs": [],
   "source": [
    "knn = KNeighborsClassifier()"
   ]
  },
  {
   "cell_type": "code",
   "execution_count": 55,
   "id": "fd3e2880",
   "metadata": {},
   "outputs": [
    {
     "data": {
      "text/plain": [
       "KNeighborsClassifier()"
      ]
     },
     "execution_count": 55,
     "metadata": {},
     "output_type": "execute_result"
    }
   ],
   "source": [
    "knn.fit(x_train,y_train)"
   ]
  },
  {
   "cell_type": "code",
   "execution_count": 56,
   "id": "7efcf0c1",
   "metadata": {},
   "outputs": [],
   "source": [
    "y_pred3 = knn.predict(x_test)"
   ]
  },
  {
   "cell_type": "code",
   "execution_count": 57,
   "id": "3023039c",
   "metadata": {},
   "outputs": [
    {
     "data": {
      "text/plain": [
       "0.8055555555555556"
      ]
     },
     "execution_count": 57,
     "metadata": {},
     "output_type": "execute_result"
    }
   ],
   "source": [
    "accuracy_score(y_test,y_pred3)"
   ]
  },
  {
   "cell_type": "code",
   "execution_count": null,
   "id": "d5f575e9",
   "metadata": {},
   "outputs": [],
   "source": []
  },
  {
   "cell_type": "markdown",
   "id": "b8cb3ed0",
   "metadata": {},
   "source": [
    "<div style=\"color:white;background-color:red;padding:2%;border-radius:70px 70px;font-size:2em;text-align:center\"> <font color=\"black\" size=+3 face=\"Lucida Calligraphy\"><div style=\"align:center: justify\">Decision tree classifier  </font></div>"
   ]
  },
  {
   "cell_type": "code",
   "execution_count": 58,
   "id": "04c035bc",
   "metadata": {},
   "outputs": [],
   "source": [
    "from sklearn.tree import DecisionTreeClassifier"
   ]
  },
  {
   "cell_type": "code",
   "execution_count": 59,
   "id": "27c7fee3",
   "metadata": {},
   "outputs": [],
   "source": [
    "df = DecisionTreeClassifier()"
   ]
  },
  {
   "cell_type": "code",
   "execution_count": 60,
   "id": "bd73ef39",
   "metadata": {},
   "outputs": [
    {
     "data": {
      "text/plain": [
       "DecisionTreeClassifier()"
      ]
     },
     "execution_count": 60,
     "metadata": {},
     "output_type": "execute_result"
    }
   ],
   "source": [
    "df.fit(x_train,y_train)"
   ]
  },
  {
   "cell_type": "code",
   "execution_count": 61,
   "id": "f7eb19ed",
   "metadata": {},
   "outputs": [],
   "source": [
    "y_pred4 = df.predict(x_test)"
   ]
  },
  {
   "cell_type": "code",
   "execution_count": 62,
   "id": "8ed8523b",
   "metadata": {},
   "outputs": [
    {
     "data": {
      "text/plain": [
       "0.6944444444444444"
      ]
     },
     "execution_count": 62,
     "metadata": {},
     "output_type": "execute_result"
    }
   ],
   "source": [
    "accuracy_score(y_test,y_pred4)"
   ]
  },
  {
   "cell_type": "code",
   "execution_count": null,
   "id": "e1daec9e",
   "metadata": {},
   "outputs": [],
   "source": []
  },
  {
   "cell_type": "markdown",
   "id": "a0e5be6c",
   "metadata": {},
   "source": [
    "<div style=\"color:white;background-color:red;padding:2%;border-radius:70px 70px;font-size:2em;text-align:center\"> <font color=\"black\" size=+3 face=\"Lucida Calligraphy\"><div style=\"align:center: justify\">Random Forest Classifier  </font></div>"
   ]
  },
  {
   "cell_type": "code",
   "execution_count": 63,
   "id": "a8adfc02",
   "metadata": {},
   "outputs": [],
   "source": [
    "from sklearn.ensemble import RandomForestClassifier"
   ]
  },
  {
   "cell_type": "code",
   "execution_count": 64,
   "id": "b4ef37cf",
   "metadata": {},
   "outputs": [],
   "source": [
    "rf = RandomForestClassifier()"
   ]
  },
  {
   "cell_type": "code",
   "execution_count": 65,
   "id": "de1853e4",
   "metadata": {},
   "outputs": [
    {
     "data": {
      "text/plain": [
       "RandomForestClassifier()"
      ]
     },
     "execution_count": 65,
     "metadata": {},
     "output_type": "execute_result"
    }
   ],
   "source": [
    "rf.fit(x_train,y_train)"
   ]
  },
  {
   "cell_type": "code",
   "execution_count": 66,
   "id": "5bdd00e4",
   "metadata": {},
   "outputs": [],
   "source": [
    "y_pred5 = rf.predict(x_test)"
   ]
  },
  {
   "cell_type": "code",
   "execution_count": 67,
   "id": "cd49e15c",
   "metadata": {},
   "outputs": [
    {
     "data": {
      "text/plain": [
       "0.8055555555555556"
      ]
     },
     "execution_count": 67,
     "metadata": {},
     "output_type": "execute_result"
    }
   ],
   "source": [
    "accuracy_score(y_test,y_pred5)"
   ]
  },
  {
   "cell_type": "code",
   "execution_count": null,
   "id": "8a9d6a09",
   "metadata": {},
   "outputs": [],
   "source": []
  },
  {
   "cell_type": "markdown",
   "id": "fc76bfc5",
   "metadata": {},
   "source": [
    "<div style=\"color:white;background-color:red;padding:2%;border-radius:70px 70px;font-size:2em;text-align:center\"> <font color=\"black\" size=+3 face=\"Lucida Calligraphy\"><div style=\"align:center: justify\">Gradient Boosting Classifier </font></div>"
   ]
  },
  {
   "cell_type": "code",
   "execution_count": 68,
   "id": "1d207431",
   "metadata": {},
   "outputs": [],
   "source": [
    "from sklearn.ensemble import GradientBoostingClassifier"
   ]
  },
  {
   "cell_type": "code",
   "execution_count": 69,
   "id": "c94f6dc6",
   "metadata": {},
   "outputs": [],
   "source": [
    "gbc =GradientBoostingClassifier()"
   ]
  },
  {
   "cell_type": "code",
   "execution_count": 70,
   "id": "2dbcb620",
   "metadata": {},
   "outputs": [
    {
     "data": {
      "text/plain": [
       "GradientBoostingClassifier()"
      ]
     },
     "execution_count": 70,
     "metadata": {},
     "output_type": "execute_result"
    }
   ],
   "source": [
    "gbc.fit(x_train,y_train)"
   ]
  },
  {
   "cell_type": "code",
   "execution_count": 71,
   "id": "6fa1a08c",
   "metadata": {},
   "outputs": [],
   "source": [
    "y_pred6 = rf.predict(x_test)"
   ]
  },
  {
   "cell_type": "code",
   "execution_count": 72,
   "id": "a2cf354e",
   "metadata": {},
   "outputs": [
    {
     "data": {
      "text/plain": [
       "0.8055555555555556"
      ]
     },
     "execution_count": 72,
     "metadata": {},
     "output_type": "execute_result"
    }
   ],
   "source": [
    "accuracy_score(y_test,y_pred6)"
   ]
  },
  {
   "cell_type": "code",
   "execution_count": 73,
   "id": "ebf0880b",
   "metadata": {},
   "outputs": [],
   "source": [
    "final_data = pd.DataFrame(columns=['Models_Name','Accuracy_score'])\n",
    "final_data = final_data.append({'Models_Name':\" Logistic Regression\", 'Accuracy_score':accuracy_score(y_test,y_pred1)},ignore_index=True)\n",
    "final_data = final_data.append({'Models_Name':\" SVM\", 'Accuracy_score':accuracy_score(y_test,y_pred2)},ignore_index=True)\n",
    "final_data = final_data.append({'Models_Name':\" KNeighbors Classifiler\", 'Accuracy_score':accuracy_score(y_test,y_pred3)},ignore_index=True)\n",
    "final_data = final_data.append({'Models_Name':\" Decision tree classifier\", 'Accuracy_score':accuracy_score(y_test,y_pred4)},ignore_index=True)\n",
    "final_data = final_data.append({'Models_Name':\" Random Forest Classifier\", 'Accuracy_score':accuracy_score(y_test,y_pred5)},ignore_index=True)\n",
    "final_data = final_data.append({'Models_Name':\" Gradient Boosting Classifier\", 'Accuracy_score':accuracy_score(y_test,y_pred6)},ignore_index=True)"
   ]
  },
  {
   "cell_type": "code",
   "execution_count": 74,
   "id": "b346eac8",
   "metadata": {},
   "outputs": [
    {
     "data": {
      "text/html": [
       "<div>\n",
       "<style scoped>\n",
       "    .dataframe tbody tr th:only-of-type {\n",
       "        vertical-align: middle;\n",
       "    }\n",
       "\n",
       "    .dataframe tbody tr th {\n",
       "        vertical-align: top;\n",
       "    }\n",
       "\n",
       "    .dataframe thead th {\n",
       "        text-align: right;\n",
       "    }\n",
       "</style>\n",
       "<table border=\"1\" class=\"dataframe\">\n",
       "  <thead>\n",
       "    <tr style=\"text-align: right;\">\n",
       "      <th></th>\n",
       "      <th>Models_Name</th>\n",
       "      <th>Accuracy_score</th>\n",
       "    </tr>\n",
       "  </thead>\n",
       "  <tbody>\n",
       "    <tr>\n",
       "      <th>0</th>\n",
       "      <td>Logistic Regression</td>\n",
       "      <td>0.805556</td>\n",
       "    </tr>\n",
       "    <tr>\n",
       "      <th>1</th>\n",
       "      <td>SVM</td>\n",
       "      <td>0.833333</td>\n",
       "    </tr>\n",
       "    <tr>\n",
       "      <th>2</th>\n",
       "      <td>KNeighbors Classifiler</td>\n",
       "      <td>0.805556</td>\n",
       "    </tr>\n",
       "    <tr>\n",
       "      <th>3</th>\n",
       "      <td>Decision tree classifier</td>\n",
       "      <td>0.694444</td>\n",
       "    </tr>\n",
       "    <tr>\n",
       "      <th>4</th>\n",
       "      <td>Random Forest Classifier</td>\n",
       "      <td>0.805556</td>\n",
       "    </tr>\n",
       "    <tr>\n",
       "      <th>5</th>\n",
       "      <td>Gradient Boosting Classifier</td>\n",
       "      <td>0.805556</td>\n",
       "    </tr>\n",
       "  </tbody>\n",
       "</table>\n",
       "</div>"
      ],
      "text/plain": [
       "                     Models_Name Accuracy_score\n",
       "0            Logistic Regression       0.805556\n",
       "1                            SVM       0.833333\n",
       "2         KNeighbors Classifiler       0.805556\n",
       "3       Decision tree classifier       0.694444\n",
       "4       Random Forest Classifier       0.805556\n",
       "5   Gradient Boosting Classifier       0.805556"
      ]
     },
     "execution_count": 74,
     "metadata": {},
     "output_type": "execute_result"
    }
   ],
   "source": [
    "final_data"
   ]
  },
  {
   "cell_type": "code",
   "execution_count": 75,
   "id": "03706940",
   "metadata": {},
   "outputs": [],
   "source": [
    "#as we see based model is SVM weth 0.833333 accuracy score\n",
    "#let's train svm on our entire data set"
   ]
  },
  {
   "cell_type": "code",
   "execution_count": 76,
   "id": "f8437ab4",
   "metadata": {},
   "outputs": [
    {
     "data": {
      "text/html": [
       "<div>\n",
       "<style scoped>\n",
       "    .dataframe tbody tr th:only-of-type {\n",
       "        vertical-align: middle;\n",
       "    }\n",
       "\n",
       "    .dataframe tbody tr th {\n",
       "        vertical-align: top;\n",
       "    }\n",
       "\n",
       "    .dataframe thead th {\n",
       "        text-align: right;\n",
       "    }\n",
       "</style>\n",
       "<table border=\"1\" class=\"dataframe\">\n",
       "  <thead>\n",
       "    <tr style=\"text-align: right;\">\n",
       "      <th></th>\n",
       "      <th>slope_of_peak_exercise_st_segment</th>\n",
       "      <th>thal</th>\n",
       "      <th>resting_blood_pressure</th>\n",
       "      <th>chest_pain_type</th>\n",
       "      <th>num_major_vessels</th>\n",
       "      <th>fasting_blood_sugar_gt_120_mg_per_dl</th>\n",
       "      <th>resting_ekg_results</th>\n",
       "      <th>serum_cholesterol_mg_per_dl</th>\n",
       "      <th>oldpeak_eq_st_depression</th>\n",
       "      <th>sex</th>\n",
       "      <th>age</th>\n",
       "      <th>max_heart_rate_achieved</th>\n",
       "      <th>exercise_induced_angina</th>\n",
       "    </tr>\n",
       "  </thead>\n",
       "  <tbody>\n",
       "    <tr>\n",
       "      <th>0</th>\n",
       "      <td>-0.891241</td>\n",
       "      <td>0.858898</td>\n",
       "      <td>-0.195195</td>\n",
       "      <td>-1.234775</td>\n",
       "      <td>-0.718403</td>\n",
       "      <td>0</td>\n",
       "      <td>0.953850</td>\n",
       "      <td>1.118269</td>\n",
       "      <td>-0.903207</td>\n",
       "      <td>1</td>\n",
       "      <td>-1.053964</td>\n",
       "      <td>0.932485</td>\n",
       "      <td>0</td>\n",
       "    </tr>\n",
       "    <tr>\n",
       "      <th>1</th>\n",
       "      <td>0.729197</td>\n",
       "      <td>0.858898</td>\n",
       "      <td>-1.256320</td>\n",
       "      <td>-0.166220</td>\n",
       "      <td>-0.718403</td>\n",
       "      <td>0</td>\n",
       "      <td>-1.054255</td>\n",
       "      <td>-0.669778</td>\n",
       "      <td>0.527616</td>\n",
       "      <td>0</td>\n",
       "      <td>-0.087134</td>\n",
       "      <td>0.387084</td>\n",
       "      <td>0</td>\n",
       "    </tr>\n",
       "    <tr>\n",
       "      <th>2</th>\n",
       "      <td>-0.891241</td>\n",
       "      <td>0.858898</td>\n",
       "      <td>-0.372049</td>\n",
       "      <td>0.902335</td>\n",
       "      <td>2.385097</td>\n",
       "      <td>0</td>\n",
       "      <td>0.953850</td>\n",
       "      <td>1.042182</td>\n",
       "      <td>-0.903207</td>\n",
       "      <td>1</td>\n",
       "      <td>2.383654</td>\n",
       "      <td>0.568884</td>\n",
       "      <td>1</td>\n",
       "    </tr>\n",
       "    <tr>\n",
       "      <th>3</th>\n",
       "      <td>-0.891241</td>\n",
       "      <td>-0.858898</td>\n",
       "      <td>1.219639</td>\n",
       "      <td>0.902335</td>\n",
       "      <td>-0.718403</td>\n",
       "      <td>0</td>\n",
       "      <td>-1.054255</td>\n",
       "      <td>-0.498582</td>\n",
       "      <td>-0.903207</td>\n",
       "      <td>1</td>\n",
       "      <td>-1.591092</td>\n",
       "      <td>1.432436</td>\n",
       "      <td>0</td>\n",
       "    </tr>\n",
       "    <tr>\n",
       "      <th>4</th>\n",
       "      <td>2.349636</td>\n",
       "      <td>-0.858898</td>\n",
       "      <td>2.752375</td>\n",
       "      <td>-2.303330</td>\n",
       "      <td>-0.718403</td>\n",
       "      <td>0</td>\n",
       "      <td>0.953850</td>\n",
       "      <td>0.395442</td>\n",
       "      <td>2.852703</td>\n",
       "      <td>1</td>\n",
       "      <td>0.449994</td>\n",
       "      <td>-0.203768</td>\n",
       "      <td>0</td>\n",
       "    </tr>\n",
       "    <tr>\n",
       "      <th>...</th>\n",
       "      <td>...</td>\n",
       "      <td>...</td>\n",
       "      <td>...</td>\n",
       "      <td>...</td>\n",
       "      <td>...</td>\n",
       "      <td>...</td>\n",
       "      <td>...</td>\n",
       "      <td>...</td>\n",
       "      <td>...</td>\n",
       "      <td>...</td>\n",
       "      <td>...</td>\n",
       "      <td>...</td>\n",
       "      <td>...</td>\n",
       "    </tr>\n",
       "    <tr>\n",
       "      <th>175</th>\n",
       "      <td>0.729197</td>\n",
       "      <td>-0.858898</td>\n",
       "      <td>-0.372049</td>\n",
       "      <td>0.902335</td>\n",
       "      <td>1.350597</td>\n",
       "      <td>1</td>\n",
       "      <td>-1.054255</td>\n",
       "      <td>0.091093</td>\n",
       "      <td>-0.724354</td>\n",
       "      <td>1</td>\n",
       "      <td>1.309398</td>\n",
       "      <td>0.614334</td>\n",
       "      <td>0</td>\n",
       "    </tr>\n",
       "    <tr>\n",
       "      <th>176</th>\n",
       "      <td>0.729197</td>\n",
       "      <td>0.858898</td>\n",
       "      <td>2.870278</td>\n",
       "      <td>0.902335</td>\n",
       "      <td>-0.718403</td>\n",
       "      <td>0</td>\n",
       "      <td>-0.050203</td>\n",
       "      <td>1.479683</td>\n",
       "      <td>2.137292</td>\n",
       "      <td>0</td>\n",
       "      <td>0.020291</td>\n",
       "      <td>-1.476372</td>\n",
       "      <td>1</td>\n",
       "    </tr>\n",
       "    <tr>\n",
       "      <th>177</th>\n",
       "      <td>0.729197</td>\n",
       "      <td>-0.858898</td>\n",
       "      <td>-0.372049</td>\n",
       "      <td>-0.166220</td>\n",
       "      <td>-0.718403</td>\n",
       "      <td>0</td>\n",
       "      <td>-1.054255</td>\n",
       "      <td>1.137291</td>\n",
       "      <td>0.706469</td>\n",
       "      <td>1</td>\n",
       "      <td>0.987122</td>\n",
       "      <td>-0.840070</td>\n",
       "      <td>1</td>\n",
       "    </tr>\n",
       "    <tr>\n",
       "      <th>178</th>\n",
       "      <td>-0.891241</td>\n",
       "      <td>0.858898</td>\n",
       "      <td>-0.431000</td>\n",
       "      <td>-0.166220</td>\n",
       "      <td>1.350597</td>\n",
       "      <td>1</td>\n",
       "      <td>-1.054255</td>\n",
       "      <td>0.110115</td>\n",
       "      <td>-0.903207</td>\n",
       "      <td>1</td>\n",
       "      <td>-0.731688</td>\n",
       "      <td>1.159736</td>\n",
       "      <td>0</td>\n",
       "    </tr>\n",
       "    <tr>\n",
       "      <th>179</th>\n",
       "      <td>-0.891241</td>\n",
       "      <td>0.858898</td>\n",
       "      <td>1.691250</td>\n",
       "      <td>-0.166220</td>\n",
       "      <td>0.316097</td>\n",
       "      <td>0</td>\n",
       "      <td>-1.054255</td>\n",
       "      <td>-0.917061</td>\n",
       "      <td>-0.903207</td>\n",
       "      <td>0</td>\n",
       "      <td>-0.087134</td>\n",
       "      <td>0.614334</td>\n",
       "      <td>0</td>\n",
       "    </tr>\n",
       "  </tbody>\n",
       "</table>\n",
       "<p>180 rows × 13 columns</p>\n",
       "</div>"
      ],
      "text/plain": [
       "     slope_of_peak_exercise_st_segment      thal  resting_blood_pressure  \\\n",
       "0                            -0.891241  0.858898               -0.195195   \n",
       "1                             0.729197  0.858898               -1.256320   \n",
       "2                            -0.891241  0.858898               -0.372049   \n",
       "3                            -0.891241 -0.858898                1.219639   \n",
       "4                             2.349636 -0.858898                2.752375   \n",
       "..                                 ...       ...                     ...   \n",
       "175                           0.729197 -0.858898               -0.372049   \n",
       "176                           0.729197  0.858898                2.870278   \n",
       "177                           0.729197 -0.858898               -0.372049   \n",
       "178                          -0.891241  0.858898               -0.431000   \n",
       "179                          -0.891241  0.858898                1.691250   \n",
       "\n",
       "     chest_pain_type  num_major_vessels  fasting_blood_sugar_gt_120_mg_per_dl  \\\n",
       "0          -1.234775          -0.718403                                     0   \n",
       "1          -0.166220          -0.718403                                     0   \n",
       "2           0.902335           2.385097                                     0   \n",
       "3           0.902335          -0.718403                                     0   \n",
       "4          -2.303330          -0.718403                                     0   \n",
       "..               ...                ...                                   ...   \n",
       "175         0.902335           1.350597                                     1   \n",
       "176         0.902335          -0.718403                                     0   \n",
       "177        -0.166220          -0.718403                                     0   \n",
       "178        -0.166220           1.350597                                     1   \n",
       "179        -0.166220           0.316097                                     0   \n",
       "\n",
       "     resting_ekg_results  serum_cholesterol_mg_per_dl  \\\n",
       "0               0.953850                     1.118269   \n",
       "1              -1.054255                    -0.669778   \n",
       "2               0.953850                     1.042182   \n",
       "3              -1.054255                    -0.498582   \n",
       "4               0.953850                     0.395442   \n",
       "..                   ...                          ...   \n",
       "175            -1.054255                     0.091093   \n",
       "176            -0.050203                     1.479683   \n",
       "177            -1.054255                     1.137291   \n",
       "178            -1.054255                     0.110115   \n",
       "179            -1.054255                    -0.917061   \n",
       "\n",
       "     oldpeak_eq_st_depression  sex       age  max_heart_rate_achieved  \\\n",
       "0                   -0.903207    1 -1.053964                 0.932485   \n",
       "1                    0.527616    0 -0.087134                 0.387084   \n",
       "2                   -0.903207    1  2.383654                 0.568884   \n",
       "3                   -0.903207    1 -1.591092                 1.432436   \n",
       "4                    2.852703    1  0.449994                -0.203768   \n",
       "..                        ...  ...       ...                      ...   \n",
       "175                 -0.724354    1  1.309398                 0.614334   \n",
       "176                  2.137292    0  0.020291                -1.476372   \n",
       "177                  0.706469    1  0.987122                -0.840070   \n",
       "178                 -0.903207    1 -0.731688                 1.159736   \n",
       "179                 -0.903207    0 -0.087134                 0.614334   \n",
       "\n",
       "     exercise_induced_angina  \n",
       "0                          0  \n",
       "1                          0  \n",
       "2                          1  \n",
       "3                          0  \n",
       "4                          0  \n",
       "..                       ...  \n",
       "175                        0  \n",
       "176                        1  \n",
       "177                        1  \n",
       "178                        0  \n",
       "179                        0  \n",
       "\n",
       "[180 rows x 13 columns]"
      ]
     },
     "execution_count": 76,
     "metadata": {},
     "output_type": "execute_result"
    }
   ],
   "source": [
    "x"
   ]
  },
  {
   "cell_type": "code",
   "execution_count": 77,
   "id": "5230f5ea",
   "metadata": {},
   "outputs": [
    {
     "data": {
      "text/plain": [
       "SVC()"
      ]
     },
     "execution_count": 77,
     "metadata": {},
     "output_type": "execute_result"
    }
   ],
   "source": [
    "from sklearn import svm\n",
    "svm = svm.SVC()\n",
    "svm.fit(x,y)"
   ]
  },
  {
   "cell_type": "code",
   "execution_count": null,
   "id": "d4d9d191",
   "metadata": {},
   "outputs": [],
   "source": []
  },
  {
   "cell_type": "markdown",
   "id": "edb9cc45",
   "metadata": {},
   "source": [
    "<div style=\"color:white;background-color:red;padding:2%;border-radius:70px 70px;font-size:2em;text-align:center\"> <font color=\"black\" size=+3 face=\"Lucida Calligraphy\"><div style=\"align:center: justify\">Prediction on new data  </font></div>"
   ]
  },
  {
   "cell_type": "code",
   "execution_count": 78,
   "id": "0eab4281",
   "metadata": {},
   "outputs": [],
   "source": [
    "import pandas as pd\n",
    "\n",
    "new_data = pd.DataFrame({\n",
    "    \"slope_of_peak_exercise_st_segment\": [2],\n",
    "    \"thal\": [2],\n",
    "    \"resting_blood_pressure\": [125],\n",
    "    \"chest_pain_type\": [3],\n",
    "    \"num_major_vessels\": [0],\n",
    "    \"fasting_blood_sugar_gt_120_mg_per_dl\": [1],\n",
    "    \"resting_ekg_results\": [2],\n",
    "    \"serum_cholesterol_mg_per_dl\": [245],\n",
    "    \"oldpeak_eq_st_depression\": [2.4],\n",
    "    \"sex\": [1],\n",
    "    \"age\": [51],\n",
    "    \"max_heart_rate_achieved\": [166],\n",
    "    \"exercise_induced_angina\": [0],\n",
    "},index=[0])"
   ]
  },
  {
   "cell_type": "code",
   "execution_count": 79,
   "id": "b6df715c",
   "metadata": {},
   "outputs": [
    {
     "data": {
      "text/html": [
       "<div>\n",
       "<style scoped>\n",
       "    .dataframe tbody tr th:only-of-type {\n",
       "        vertical-align: middle;\n",
       "    }\n",
       "\n",
       "    .dataframe tbody tr th {\n",
       "        vertical-align: top;\n",
       "    }\n",
       "\n",
       "    .dataframe thead th {\n",
       "        text-align: right;\n",
       "    }\n",
       "</style>\n",
       "<table border=\"1\" class=\"dataframe\">\n",
       "  <thead>\n",
       "    <tr style=\"text-align: right;\">\n",
       "      <th></th>\n",
       "      <th>slope_of_peak_exercise_st_segment</th>\n",
       "      <th>thal</th>\n",
       "      <th>resting_blood_pressure</th>\n",
       "      <th>chest_pain_type</th>\n",
       "      <th>num_major_vessels</th>\n",
       "      <th>fasting_blood_sugar_gt_120_mg_per_dl</th>\n",
       "      <th>resting_ekg_results</th>\n",
       "      <th>serum_cholesterol_mg_per_dl</th>\n",
       "      <th>oldpeak_eq_st_depression</th>\n",
       "      <th>sex</th>\n",
       "      <th>age</th>\n",
       "      <th>max_heart_rate_achieved</th>\n",
       "      <th>exercise_induced_angina</th>\n",
       "    </tr>\n",
       "  </thead>\n",
       "  <tbody>\n",
       "    <tr>\n",
       "      <th>0</th>\n",
       "      <td>2</td>\n",
       "      <td>2</td>\n",
       "      <td>125</td>\n",
       "      <td>3</td>\n",
       "      <td>0</td>\n",
       "      <td>1</td>\n",
       "      <td>2</td>\n",
       "      <td>245</td>\n",
       "      <td>2.4</td>\n",
       "      <td>1</td>\n",
       "      <td>51</td>\n",
       "      <td>166</td>\n",
       "      <td>0</td>\n",
       "    </tr>\n",
       "  </tbody>\n",
       "</table>\n",
       "</div>"
      ],
      "text/plain": [
       "   slope_of_peak_exercise_st_segment  thal  resting_blood_pressure  \\\n",
       "0                                  2     2                     125   \n",
       "\n",
       "   chest_pain_type  num_major_vessels  fasting_blood_sugar_gt_120_mg_per_dl  \\\n",
       "0                3                  0                                     1   \n",
       "\n",
       "   resting_ekg_results  serum_cholesterol_mg_per_dl  oldpeak_eq_st_depression  \\\n",
       "0                    2                          245                       2.4   \n",
       "\n",
       "   sex  age  max_heart_rate_achieved  exercise_induced_angina  \n",
       "0    1   51                      166                        0  "
      ]
     },
     "execution_count": 79,
     "metadata": {},
     "output_type": "execute_result"
    }
   ],
   "source": [
    "new_data"
   ]
  },
  {
   "cell_type": "code",
   "execution_count": 80,
   "id": "ab891737",
   "metadata": {},
   "outputs": [
    {
     "name": "stdout",
     "output_type": "stream",
     "text": [
      "No heart Disease\n"
     ]
    }
   ],
   "source": [
    "p= svm.predict(new_data)\n",
    "if p[0]==0:\n",
    "    print(\"No heart Disease\")\n",
    "else:\n",
    "    print(\"yes heart is present Disease\")"
   ]
  },
  {
   "cell_type": "markdown",
   "id": "0f67b25a",
   "metadata": {},
   "source": [
    "# Model Comparision"
   ]
  },
  {
   "cell_type": "raw",
   "id": "c5650d6c",
   "metadata": {},
   "source": [
    "we see based model is Logistic Regression accuracy score is 0.805556.\n",
    "we see based model is SVM accuracy score is 0.833333.\n",
    "we see based model is KNeighbors Classifiler accuracy score is 0.805556.\n",
    "we see based model is Decision tree classifier accuracy score is 0.694444.\n",
    "we see based model is Random Forest Classifier accuracy score is 0.861111.\n",
    "we see based model is Gradient Boosting Classifier accuracy score is 0.861111."
   ]
  },
  {
   "cell_type": "markdown",
   "id": "248ecc33",
   "metadata": {},
   "source": [
    "In Conclusion model provides Random foresr and Gradient Boosting classifier has the 86.11% accuracy.Prediction on new data Is No heart disease.\n"
   ]
  },
  {
   "cell_type": "markdown",
   "id": "729547bc",
   "metadata": {},
   "source": [
    "# Challenges Faced"
   ]
  },
  {
   "cell_type": "markdown",
   "id": "42a969af",
   "metadata": {},
   "source": [
    "Data Quality: The success of a prediction model largely depends on the quality of the data used1. Incomplete, inconsistent, or noisy data can significantly impact the performance of the model1.\n",
    "\n",
    "Feature Selection: Identifying the most relevant features for predicting heart disease can be challenging1. Irrelevant or redundant features can lead to overfitting and poor model performance1.\n",
    "\n",
    "Imbalanced Data: Medical datasets often suffer from class imbalance, where the number of instances of one class (e.g., patients with heart disease) is much smaller than the other class (e.g., healthy patients)1. This can lead to models that are biased towards the majority class1.\n",
    "\n",
    "Interpretability: Machine learning models can be complex and difficult to interpret2. This is particularly important in healthcare, where understanding the reasoning behind a prediction can be as important as the prediction itself2.\n",
    "\n",
    "Privacy and Ethical Considerations: Medical data is sensitive, and using it for prediction requires careful consideration of privacy and ethical issues3.\n",
    "\n",
    "Computational Resources: Machine learning algorithms can be computationally intensive, particularly with large datasets1. This can be a challenge if computational resources are limited"
   ]
  },
  {
   "cell_type": "code",
   "execution_count": null,
   "id": "0c0821cb",
   "metadata": {},
   "outputs": [],
   "source": []
  }
 ],
 "metadata": {
  "kernelspec": {
   "display_name": "Python 3 (ipykernel)",
   "language": "python",
   "name": "python3"
  },
  "language_info": {
   "codemirror_mode": {
    "name": "ipython",
    "version": 3
   },
   "file_extension": ".py",
   "mimetype": "text/x-python",
   "name": "python",
   "nbconvert_exporter": "python",
   "pygments_lexer": "ipython3",
   "version": "3.9.12"
  }
 },
 "nbformat": 4,
 "nbformat_minor": 5
}
